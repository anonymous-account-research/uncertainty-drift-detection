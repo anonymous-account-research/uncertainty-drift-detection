{
 "cells": [
  {
   "cell_type": "code",
   "execution_count": 1,
   "metadata": {},
   "outputs": [],
   "source": [
    "import numpy as np\n",
    "import pandas as pd"
   ]
  },
  {
   "cell_type": "code",
   "execution_count": 2,
   "metadata": {},
   "outputs": [],
   "source": [
    "x1 = np.random.uniform(0,1,20000)\n",
    "x2 = np.random.uniform(0,1,20000)\n",
    "x3 = np.random.uniform(0,1,20000)\n",
    "x4 = np.random.uniform(0,1,20000)\n",
    "x5 = np.random.uniform(0,1,20000)\n",
    "x6 = np.random.uniform(0,1,20000)\n",
    "x7 = np.random.uniform(0,1,20000)\n",
    "x8 = np.random.uniform(0,1,20000)\n",
    "x9 = np.random.uniform(0,1,20000)\n",
    "x10= np.random.uniform(0,1,20000)"
   ]
  },
  {
   "cell_type": "markdown",
   "metadata": {},
   "source": [
    "### Create Drifts\n",
    "One incremntal drift:\n",
    "\n",
    "Start @ [5000]: changes x1, x3 and x5. They are now drawn from np.random.uniform(0,1+i) with i = 1\n",
    "After every 1000 datapoints x1, x3 and x5 i += 1.\n",
    "Stop when i = 10"
   ]
  },
  {
   "cell_type": "code",
   "execution_count": 3,
   "metadata": {},
   "outputs": [],
   "source": [
    "j = 0\n",
    "for i in range(1,10):\n",
    "    x1[5000+j:6000+j]=np.random.uniform(0,1+i,1000)\n",
    "    x3[5000+j:6000+j]=np.random.uniform(0,1+i,1000)\n",
    "    x5[5000+j:6000+j]=np.random.uniform(0,1+i,1000)\n",
    "    \n",
    "    j += 1000\n",
    "        \n",
    "y = 10*np.sin(np.pi*x1*x2)+20*(x3-0.5)**2 + 10*x4 + 5*x5 + np.random.normal(0,1)\n"
   ]
  },
  {
   "cell_type": "code",
   "execution_count": 4,
   "metadata": {},
   "outputs": [],
   "source": [
    "data = pd.DataFrame([x1,x2,x3,x4,x5,x6,x7,x8,x9,x10,y]).transpose()\n",
    "data.columns = ['x1','x2','x3','x4','x5','x6','x7','x8','x9','x10', 'y']"
   ]
  },
  {
   "cell_type": "code",
   "execution_count": 5,
   "metadata": {},
   "outputs": [
    {
     "data": {
      "text/html": [
       "<div>\n",
       "<style scoped>\n",
       "    .dataframe tbody tr th:only-of-type {\n",
       "        vertical-align: middle;\n",
       "    }\n",
       "\n",
       "    .dataframe tbody tr th {\n",
       "        vertical-align: top;\n",
       "    }\n",
       "\n",
       "    .dataframe thead th {\n",
       "        text-align: right;\n",
       "    }\n",
       "</style>\n",
       "<table border=\"1\" class=\"dataframe\">\n",
       "  <thead>\n",
       "    <tr style=\"text-align: right;\">\n",
       "      <th></th>\n",
       "      <th>x1</th>\n",
       "      <th>x2</th>\n",
       "      <th>x3</th>\n",
       "      <th>x4</th>\n",
       "      <th>x5</th>\n",
       "      <th>x6</th>\n",
       "      <th>x7</th>\n",
       "      <th>x8</th>\n",
       "      <th>x9</th>\n",
       "      <th>x10</th>\n",
       "      <th>y</th>\n",
       "    </tr>\n",
       "  </thead>\n",
       "  <tbody>\n",
       "    <tr>\n",
       "      <th>0</th>\n",
       "      <td>0.213123</td>\n",
       "      <td>0.914511</td>\n",
       "      <td>0.529169</td>\n",
       "      <td>0.855246</td>\n",
       "      <td>0.457276</td>\n",
       "      <td>0.409271</td>\n",
       "      <td>0.414192</td>\n",
       "      <td>0.123871</td>\n",
       "      <td>0.552210</td>\n",
       "      <td>0.240846</td>\n",
       "      <td>17.148681</td>\n",
       "    </tr>\n",
       "    <tr>\n",
       "      <th>1</th>\n",
       "      <td>0.236640</td>\n",
       "      <td>0.561304</td>\n",
       "      <td>0.562876</td>\n",
       "      <td>0.448645</td>\n",
       "      <td>0.364565</td>\n",
       "      <td>0.821614</td>\n",
       "      <td>0.622813</td>\n",
       "      <td>0.633720</td>\n",
       "      <td>0.958946</td>\n",
       "      <td>0.684494</td>\n",
       "      <td>10.986422</td>\n",
       "    </tr>\n",
       "    <tr>\n",
       "      <th>2</th>\n",
       "      <td>0.763112</td>\n",
       "      <td>0.750164</td>\n",
       "      <td>0.784491</td>\n",
       "      <td>0.540628</td>\n",
       "      <td>0.079335</td>\n",
       "      <td>0.243474</td>\n",
       "      <td>0.964413</td>\n",
       "      <td>0.812691</td>\n",
       "      <td>0.522259</td>\n",
       "      <td>0.739716</td>\n",
       "      <td>17.708935</td>\n",
       "    </tr>\n",
       "    <tr>\n",
       "      <th>3</th>\n",
       "      <td>0.925724</td>\n",
       "      <td>0.483521</td>\n",
       "      <td>0.926468</td>\n",
       "      <td>0.877249</td>\n",
       "      <td>0.496553</td>\n",
       "      <td>0.738427</td>\n",
       "      <td>0.759914</td>\n",
       "      <td>0.915616</td>\n",
       "      <td>0.009864</td>\n",
       "      <td>0.385673</td>\n",
       "      <td>25.302855</td>\n",
       "    </tr>\n",
       "    <tr>\n",
       "      <th>4</th>\n",
       "      <td>0.455391</td>\n",
       "      <td>0.115913</td>\n",
       "      <td>0.161664</td>\n",
       "      <td>0.081915</td>\n",
       "      <td>0.432421</td>\n",
       "      <td>0.823599</td>\n",
       "      <td>0.191752</td>\n",
       "      <td>0.282694</td>\n",
       "      <td>0.368619</td>\n",
       "      <td>0.885757</td>\n",
       "      <td>7.466668</td>\n",
       "    </tr>\n",
       "    <tr>\n",
       "      <th>...</th>\n",
       "      <td>...</td>\n",
       "      <td>...</td>\n",
       "      <td>...</td>\n",
       "      <td>...</td>\n",
       "      <td>...</td>\n",
       "      <td>...</td>\n",
       "      <td>...</td>\n",
       "      <td>...</td>\n",
       "      <td>...</td>\n",
       "      <td>...</td>\n",
       "      <td>...</td>\n",
       "    </tr>\n",
       "    <tr>\n",
       "      <th>19995</th>\n",
       "      <td>0.320237</td>\n",
       "      <td>0.935760</td>\n",
       "      <td>0.836078</td>\n",
       "      <td>0.277477</td>\n",
       "      <td>0.078870</td>\n",
       "      <td>0.536769</td>\n",
       "      <td>0.675824</td>\n",
       "      <td>0.344975</td>\n",
       "      <td>0.631594</td>\n",
       "      <td>0.419717</td>\n",
       "      <td>14.057313</td>\n",
       "    </tr>\n",
       "    <tr>\n",
       "      <th>19996</th>\n",
       "      <td>0.343024</td>\n",
       "      <td>0.709978</td>\n",
       "      <td>0.002653</td>\n",
       "      <td>0.690382</td>\n",
       "      <td>0.544383</td>\n",
       "      <td>0.134820</td>\n",
       "      <td>0.573088</td>\n",
       "      <td>0.775536</td>\n",
       "      <td>0.779334</td>\n",
       "      <td>0.972259</td>\n",
       "      <td>22.044178</td>\n",
       "    </tr>\n",
       "    <tr>\n",
       "      <th>19997</th>\n",
       "      <td>0.374447</td>\n",
       "      <td>0.752677</td>\n",
       "      <td>0.189095</td>\n",
       "      <td>0.523457</td>\n",
       "      <td>0.851798</td>\n",
       "      <td>0.046698</td>\n",
       "      <td>0.037638</td>\n",
       "      <td>0.288186</td>\n",
       "      <td>0.364610</td>\n",
       "      <td>0.155974</td>\n",
       "      <td>19.713861</td>\n",
       "    </tr>\n",
       "    <tr>\n",
       "      <th>19998</th>\n",
       "      <td>0.002349</td>\n",
       "      <td>0.470892</td>\n",
       "      <td>0.749987</td>\n",
       "      <td>0.982085</td>\n",
       "      <td>0.595223</td>\n",
       "      <td>0.900887</td>\n",
       "      <td>0.727877</td>\n",
       "      <td>0.845198</td>\n",
       "      <td>0.738293</td>\n",
       "      <td>0.907617</td>\n",
       "      <td>14.626849</td>\n",
       "    </tr>\n",
       "    <tr>\n",
       "      <th>19999</th>\n",
       "      <td>0.584862</td>\n",
       "      <td>0.725846</td>\n",
       "      <td>0.049988</td>\n",
       "      <td>0.637838</td>\n",
       "      <td>0.244407</td>\n",
       "      <td>0.277656</td>\n",
       "      <td>0.316476</td>\n",
       "      <td>0.734655</td>\n",
       "      <td>0.866868</td>\n",
       "      <td>0.251035</td>\n",
       "      <td>21.916067</td>\n",
       "    </tr>\n",
       "  </tbody>\n",
       "</table>\n",
       "<p>20000 rows × 11 columns</p>\n",
       "</div>"
      ],
      "text/plain": [
       "             x1        x2        x3        x4        x5        x6        x7  \\\n",
       "0      0.213123  0.914511  0.529169  0.855246  0.457276  0.409271  0.414192   \n",
       "1      0.236640  0.561304  0.562876  0.448645  0.364565  0.821614  0.622813   \n",
       "2      0.763112  0.750164  0.784491  0.540628  0.079335  0.243474  0.964413   \n",
       "3      0.925724  0.483521  0.926468  0.877249  0.496553  0.738427  0.759914   \n",
       "4      0.455391  0.115913  0.161664  0.081915  0.432421  0.823599  0.191752   \n",
       "...         ...       ...       ...       ...       ...       ...       ...   \n",
       "19995  0.320237  0.935760  0.836078  0.277477  0.078870  0.536769  0.675824   \n",
       "19996  0.343024  0.709978  0.002653  0.690382  0.544383  0.134820  0.573088   \n",
       "19997  0.374447  0.752677  0.189095  0.523457  0.851798  0.046698  0.037638   \n",
       "19998  0.002349  0.470892  0.749987  0.982085  0.595223  0.900887  0.727877   \n",
       "19999  0.584862  0.725846  0.049988  0.637838  0.244407  0.277656  0.316476   \n",
       "\n",
       "             x8        x9       x10          y  \n",
       "0      0.123871  0.552210  0.240846  17.148681  \n",
       "1      0.633720  0.958946  0.684494  10.986422  \n",
       "2      0.812691  0.522259  0.739716  17.708935  \n",
       "3      0.915616  0.009864  0.385673  25.302855  \n",
       "4      0.282694  0.368619  0.885757   7.466668  \n",
       "...         ...       ...       ...        ...  \n",
       "19995  0.344975  0.631594  0.419717  14.057313  \n",
       "19996  0.775536  0.779334  0.972259  22.044178  \n",
       "19997  0.288186  0.364610  0.155974  19.713861  \n",
       "19998  0.845198  0.738293  0.907617  14.626849  \n",
       "19999  0.734655  0.866868  0.251035  21.916067  \n",
       "\n",
       "[20000 rows x 11 columns]"
      ]
     },
     "execution_count": 5,
     "metadata": {},
     "output_type": "execute_result"
    }
   ],
   "source": [
    "data"
   ]
  },
  {
   "cell_type": "code",
   "execution_count": 6,
   "metadata": {},
   "outputs": [],
   "source": [
    "data.to_csv('friedman_with_incremental_drift_new.csv', index=False)"
   ]
  },
  {
   "cell_type": "code",
   "execution_count": 7,
   "metadata": {},
   "outputs": [
    {
     "data": {
      "text/plain": [
       "[<matplotlib.lines.Line2D at 0x7fb53e38c0d0>]"
      ]
     },
     "execution_count": 7,
     "metadata": {},
     "output_type": "execute_result"
    },
    {
     "data": {
      "image/png": "[encoded data removed]",
      "text/plain": [
       "<Figure size 432x288 with 1 Axes>"
      ]
     },
     "metadata": {
      "needs_background": "light"
     },
     "output_type": "display_data"
    }
   ],
   "source": [
    "import matplotlib.pyplot as plt\n",
    "plt.plot(data['x1'])"
   ]
  },
  {
   "cell_type": "code",
   "execution_count": 9,
   "metadata": {},
   "outputs": [
    {
     "data": {
      "image/png": "[encoded data removed]",
      "text/plain": [
       "<Figure size 1080x288 with 3 Axes>"
      ]
     },
     "metadata": {
      "needs_background": "light"
     },
     "output_type": "display_data"
    }
   ],
   "source": [
    "import matplotlib.ticker as ticker\n",
    "\n",
    "#Plot features\n",
    "font = {'size'   : 14}\n",
    "\n",
    "plt.rc('font', **font)\n",
    "fig, ax = plt.subplots(1, 3, figsize=(15,4))\n",
    "\n",
    "\n",
    "ax[0].plot(data['x1'])\n",
    "ax[0].set_title('Feature: x1 (Drift)')\n",
    "ax[0].xaxis.set_major_formatter(ticker.FuncFormatter(lambda x, pos: '{}'.format(int(x/1000)) + 'k'))\n",
    "\n",
    "ax[1].plot(data['x2'])\n",
    "ax[1].set_title('Feature: x2 (No Drift)')\n",
    "ax[1].xaxis.set_major_formatter(ticker.FuncFormatter(lambda x, pos: '{}'.format(int(x/1000)) + 'k'))\n",
    "\n",
    "ax[2].plot(data['y'])\n",
    "ax[2].set_title('Target')\n",
    "ax[2].xaxis.set_major_formatter(ticker.FuncFormatter(lambda x, pos: '{}'.format(int(x/1000)) + 'k'))\n",
    "\n",
    "\n",
    "\n",
    "plt.savefig('friedman_incremental.png', bbox_inches='tight', dpi=300)"
   ]
  },
  {
   "cell_type": "code",
   "execution_count": null,
   "metadata": {},
   "outputs": [],
   "source": []
  }
 ],
 "metadata": {
  "kernelspec": {
   "display_name": "Python 3",
   "language": "python",
   "name": "python3"
  },
  "language_info": {
   "codemirror_mode": {
    "name": "ipython",
    "version": 3
   },
   "file_extension": ".py",
   "mimetype": "text/x-python",
   "name": "python",
   "nbconvert_exporter": "python",
   "pygments_lexer": "ipython3",
   "version": "3.7.6"
  }
 },
 "nbformat": 4,
 "nbformat_minor": 4
}
