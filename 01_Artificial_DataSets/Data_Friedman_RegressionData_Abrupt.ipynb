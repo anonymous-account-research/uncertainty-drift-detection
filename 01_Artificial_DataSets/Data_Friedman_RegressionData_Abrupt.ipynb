{
 "cells": [
  {
   "cell_type": "code",
   "execution_count": 29,
   "metadata": {
    "ExecuteTime": {
     "end_time": "2021-03-15T09:20:58.679916Z",
     "start_time": "2021-03-15T09:20:58.607431Z"
    }
   },
   "outputs": [],
   "source": [
    "import numpy as np\n",
    "import pandas as pd"
   ]
  },
  {
   "cell_type": "code",
   "execution_count": 30,
   "metadata": {
    "ExecuteTime": {
     "end_time": "2021-03-15T09:20:58.981801Z",
     "start_time": "2021-03-15T09:20:58.928179Z"
    }
   },
   "outputs": [],
   "source": [
    "x1 = np.random.uniform(0,1,20000)\n",
    "x2 = np.random.uniform(0,1,20000)\n",
    "x3 = np.random.uniform(0,1,20000)\n",
    "x4 = np.random.uniform(0,1,20000)\n",
    "x5 = np.random.uniform(0,1,20000)\n",
    "x6 = np.random.uniform(0,1,20000)\n",
    "x7 = np.random.uniform(0,1,20000)\n",
    "x8 = np.random.uniform(0,1,20000)\n",
    "x9 = np.random.uniform(0,1,20000)\n",
    "x10= np.random.uniform(0,1,20000)"
   ]
  },
  {
   "cell_type": "markdown",
   "metadata": {},
   "source": [
    "### Create Drifts\n",
    "All drifts are sudden/abrupt.\n",
    "\n",
    "1. Drift @ [5000:7500]: x1, x3 and x5 are now np.random.uniform(-1,2,2500)\n",
    "2. Drift @ [10000:12500]: y changes from y_org to y_1) --> Remove label shift \n",
    "3. Drift @ [15000:17500]: Drift 1 and 2 appear together\n",
    "\n",
    "vgl. Vasiloudis (2019)"
   ]
  },
  {
   "cell_type": "code",
   "execution_count": 31,
   "metadata": {
    "ExecuteTime": {
     "end_time": "2021-03-15T09:20:59.994994Z",
     "start_time": "2021-03-15T09:20:59.950652Z"
    }
   },
   "outputs": [],
   "source": [
    "# Validation drift\n",
    "x1[2000:3000]=np.random.uniform(-1,2,1000)\n",
    "x3[2000:3000]=np.random.uniform(-1,2,1000)\n",
    "x5[2000:3000]=np.random.uniform(-1,2,1000)\n",
    "\n",
    "# 1. Drift\n",
    "x1[5000:7500]=np.random.uniform(-1,2,2500)\n",
    "x3[5000:7500]=np.random.uniform(-1,2,2500)\n",
    "x5[5000:7500]=np.random.uniform(-1,2,2500)\n",
    "\n",
    "# 2. Drift\n",
    "x7[10000:12000]=np.random.uniform(-1,2,2000)\n",
    "x9[10000:12000]=np.random.uniform(-1,2,2000)\n",
    "x10[10000:12000]=np.random.uniform(-1,2,2000)\n",
    "\n",
    "# 3. Drift\n",
    "x1[16000:20000]=np.random.uniform(-1,2,4000)\n",
    "x3[16000:20000]=np.random.uniform(-1,2,4000)\n",
    "x5[16000:20000]=np.random.uniform(-1,2,4000)\n",
    "\n",
    "#y_org = 10*np.sin(np.pi*x1*x2)+20*(x3-0.5)**2 + 10*x4 + 5*x5 + np.random.normal(0,1)\n",
    "y_1 = 10*np.sin(np.pi*x4*x5)+20*(x2-0.5)**2 + 10*x1 + 5*x3 + np.random.normal(0,1)"
   ]
  },
  {
   "cell_type": "code",
   "execution_count": 42,
   "metadata": {
    "ExecuteTime": {
     "end_time": "2021-03-15T09:44:26.337535Z",
     "start_time": "2021-03-15T09:44:26.333508Z"
    }
   },
   "outputs": [],
   "source": [
    "relevant_drift_points = [2000, 3000, 5000, 7500, 16000]\n",
    "irrelevant_drift_points = [10000, 12000]"
   ]
  },
  {
   "cell_type": "code",
   "execution_count": 32,
   "metadata": {
    "ExecuteTime": {
     "end_time": "2021-03-15T09:21:16.798296Z",
     "start_time": "2021-03-15T09:21:14.833979Z"
    }
   },
   "outputs": [],
   "source": [
    "data = pd.DataFrame([x1,x2,x3,x4,x5,x6,x7,x8,x9,x10, y_org, y_1]).transpose()\n",
    "data.columns = ['x1','x2','x3','x4','x5','x6','x7','x8','x9','x10', 'y_org', 'y_1']"
   ]
  },
  {
   "cell_type": "code",
   "execution_count": 33,
   "metadata": {
    "ExecuteTime": {
     "end_time": "2021-03-15T09:21:16.803589Z",
     "start_time": "2021-03-15T09:21:16.800843Z"
    }
   },
   "outputs": [],
   "source": [
    "#data['y_global_abrupt3'] = data['y_org']\n",
    "#data['y_global_abrupt3'][10000:12500] = data['y_1'][10000:12500]\n",
    "#data['y_global_abrupt3'][15000:17500] = data['y_1'][15000:17500]"
   ]
  },
  {
   "cell_type": "code",
   "execution_count": 34,
   "metadata": {
    "ExecuteTime": {
     "end_time": "2021-03-15T09:21:19.206148Z",
     "start_time": "2021-03-15T09:21:19.196819Z"
    }
   },
   "outputs": [],
   "source": [
    "data = data.drop(['y_org'], axis = 1)"
   ]
  },
  {
   "cell_type": "code",
   "execution_count": 35,
   "metadata": {
    "ExecuteTime": {
     "end_time": "2021-03-15T09:21:20.107984Z",
     "start_time": "2021-03-15T09:21:20.082436Z"
    }
   },
   "outputs": [
    {
     "data": {
      "text/html": [
       "<div>\n",
       "<style scoped>\n",
       "    .dataframe tbody tr th:only-of-type {\n",
       "        vertical-align: middle;\n",
       "    }\n",
       "\n",
       "    .dataframe tbody tr th {\n",
       "        vertical-align: top;\n",
       "    }\n",
       "\n",
       "    .dataframe thead th {\n",
       "        text-align: right;\n",
       "    }\n",
       "</style>\n",
       "<table border=\"1\" class=\"dataframe\">\n",
       "  <thead>\n",
       "    <tr style=\"text-align: right;\">\n",
       "      <th></th>\n",
       "      <th>x1</th>\n",
       "      <th>x2</th>\n",
       "      <th>x3</th>\n",
       "      <th>x4</th>\n",
       "      <th>x5</th>\n",
       "      <th>x6</th>\n",
       "      <th>x7</th>\n",
       "      <th>x8</th>\n",
       "      <th>x9</th>\n",
       "      <th>x10</th>\n",
       "      <th>y_1</th>\n",
       "    </tr>\n",
       "  </thead>\n",
       "  <tbody>\n",
       "    <tr>\n",
       "      <td>0</td>\n",
       "      <td>0.990323</td>\n",
       "      <td>0.295195</td>\n",
       "      <td>0.985066</td>\n",
       "      <td>0.153509</td>\n",
       "      <td>0.971696</td>\n",
       "      <td>0.828571</td>\n",
       "      <td>0.376036</td>\n",
       "      <td>0.003308</td>\n",
       "      <td>0.471942</td>\n",
       "      <td>0.588665</td>\n",
       "      <td>20.873051</td>\n",
       "    </tr>\n",
       "    <tr>\n",
       "      <td>1</td>\n",
       "      <td>0.945133</td>\n",
       "      <td>0.836165</td>\n",
       "      <td>0.850556</td>\n",
       "      <td>0.437139</td>\n",
       "      <td>0.396555</td>\n",
       "      <td>0.030337</td>\n",
       "      <td>0.529915</td>\n",
       "      <td>0.440972</td>\n",
       "      <td>0.113674</td>\n",
       "      <td>0.702913</td>\n",
       "      <td>21.834071</td>\n",
       "    </tr>\n",
       "    <tr>\n",
       "      <td>2</td>\n",
       "      <td>0.719979</td>\n",
       "      <td>0.621302</td>\n",
       "      <td>0.086242</td>\n",
       "      <td>0.024708</td>\n",
       "      <td>0.883501</td>\n",
       "      <td>0.855673</td>\n",
       "      <td>0.634770</td>\n",
       "      <td>0.641972</td>\n",
       "      <td>0.868885</td>\n",
       "      <td>0.930501</td>\n",
       "      <td>9.299647</td>\n",
       "    </tr>\n",
       "    <tr>\n",
       "      <td>3</td>\n",
       "      <td>0.823447</td>\n",
       "      <td>0.599436</td>\n",
       "      <td>0.032399</td>\n",
       "      <td>0.737722</td>\n",
       "      <td>0.284384</td>\n",
       "      <td>0.168977</td>\n",
       "      <td>0.743067</td>\n",
       "      <td>0.334343</td>\n",
       "      <td>0.619894</td>\n",
       "      <td>0.371821</td>\n",
       "      <td>15.407333</td>\n",
       "    </tr>\n",
       "    <tr>\n",
       "      <td>4</td>\n",
       "      <td>0.758288</td>\n",
       "      <td>0.874209</td>\n",
       "      <td>0.901630</td>\n",
       "      <td>0.266148</td>\n",
       "      <td>0.125115</td>\n",
       "      <td>0.801503</td>\n",
       "      <td>0.071912</td>\n",
       "      <td>0.124997</td>\n",
       "      <td>0.320607</td>\n",
       "      <td>0.078410</td>\n",
       "      <td>16.624996</td>\n",
       "    </tr>\n",
       "    <tr>\n",
       "      <td>...</td>\n",
       "      <td>...</td>\n",
       "      <td>...</td>\n",
       "      <td>...</td>\n",
       "      <td>...</td>\n",
       "      <td>...</td>\n",
       "      <td>...</td>\n",
       "      <td>...</td>\n",
       "      <td>...</td>\n",
       "      <td>...</td>\n",
       "      <td>...</td>\n",
       "      <td>...</td>\n",
       "    </tr>\n",
       "    <tr>\n",
       "      <td>19995</td>\n",
       "      <td>-0.842050</td>\n",
       "      <td>0.070262</td>\n",
       "      <td>1.058054</td>\n",
       "      <td>0.690863</td>\n",
       "      <td>-0.986042</td>\n",
       "      <td>0.601739</td>\n",
       "      <td>0.556676</td>\n",
       "      <td>0.943032</td>\n",
       "      <td>0.948944</td>\n",
       "      <td>0.450994</td>\n",
       "      <td>-7.170327</td>\n",
       "    </tr>\n",
       "    <tr>\n",
       "      <td>19996</td>\n",
       "      <td>0.282762</td>\n",
       "      <td>0.459768</td>\n",
       "      <td>-0.822824</td>\n",
       "      <td>0.480398</td>\n",
       "      <td>-0.224041</td>\n",
       "      <td>0.410742</td>\n",
       "      <td>0.597070</td>\n",
       "      <td>0.105123</td>\n",
       "      <td>0.731664</td>\n",
       "      <td>0.627723</td>\n",
       "      <td>-3.882229</td>\n",
       "    </tr>\n",
       "    <tr>\n",
       "      <td>19997</td>\n",
       "      <td>-0.492764</td>\n",
       "      <td>0.513361</td>\n",
       "      <td>0.562235</td>\n",
       "      <td>0.267323</td>\n",
       "      <td>-0.306629</td>\n",
       "      <td>0.111063</td>\n",
       "      <td>0.900216</td>\n",
       "      <td>0.330584</td>\n",
       "      <td>0.381724</td>\n",
       "      <td>0.959858</td>\n",
       "      <td>-3.970564</td>\n",
       "    </tr>\n",
       "    <tr>\n",
       "      <td>19998</td>\n",
       "      <td>0.290170</td>\n",
       "      <td>0.525566</td>\n",
       "      <td>0.566267</td>\n",
       "      <td>0.237261</td>\n",
       "      <td>-0.639591</td>\n",
       "      <td>0.348820</td>\n",
       "      <td>0.991760</td>\n",
       "      <td>0.865608</td>\n",
       "      <td>0.113224</td>\n",
       "      <td>0.572209</td>\n",
       "      <td>1.846395</td>\n",
       "    </tr>\n",
       "    <tr>\n",
       "      <td>19999</td>\n",
       "      <td>0.659641</td>\n",
       "      <td>0.636201</td>\n",
       "      <td>0.878853</td>\n",
       "      <td>0.364221</td>\n",
       "      <td>0.327925</td>\n",
       "      <td>0.441562</td>\n",
       "      <td>0.703380</td>\n",
       "      <td>0.682083</td>\n",
       "      <td>0.797735</td>\n",
       "      <td>0.962985</td>\n",
       "      <td>15.715582</td>\n",
       "    </tr>\n",
       "  </tbody>\n",
       "</table>\n",
       "<p>20000 rows × 11 columns</p>\n",
       "</div>"
      ],
      "text/plain": [
       "             x1        x2        x3        x4        x5        x6        x7  \\\n",
       "0      0.990323  0.295195  0.985066  0.153509  0.971696  0.828571  0.376036   \n",
       "1      0.945133  0.836165  0.850556  0.437139  0.396555  0.030337  0.529915   \n",
       "2      0.719979  0.621302  0.086242  0.024708  0.883501  0.855673  0.634770   \n",
       "3      0.823447  0.599436  0.032399  0.737722  0.284384  0.168977  0.743067   \n",
       "4      0.758288  0.874209  0.901630  0.266148  0.125115  0.801503  0.071912   \n",
       "...         ...       ...       ...       ...       ...       ...       ...   \n",
       "19995 -0.842050  0.070262  1.058054  0.690863 -0.986042  0.601739  0.556676   \n",
       "19996  0.282762  0.459768 -0.822824  0.480398 -0.224041  0.410742  0.597070   \n",
       "19997 -0.492764  0.513361  0.562235  0.267323 -0.306629  0.111063  0.900216   \n",
       "19998  0.290170  0.525566  0.566267  0.237261 -0.639591  0.348820  0.991760   \n",
       "19999  0.659641  0.636201  0.878853  0.364221  0.327925  0.441562  0.703380   \n",
       "\n",
       "             x8        x9       x10        y_1  \n",
       "0      0.003308  0.471942  0.588665  20.873051  \n",
       "1      0.440972  0.113674  0.702913  21.834071  \n",
       "2      0.641972  0.868885  0.930501   9.299647  \n",
       "3      0.334343  0.619894  0.371821  15.407333  \n",
       "4      0.124997  0.320607  0.078410  16.624996  \n",
       "...         ...       ...       ...        ...  \n",
       "19995  0.943032  0.948944  0.450994  -7.170327  \n",
       "19996  0.105123  0.731664  0.627723  -3.882229  \n",
       "19997  0.330584  0.381724  0.959858  -3.970564  \n",
       "19998  0.865608  0.113224  0.572209   1.846395  \n",
       "19999  0.682083  0.797735  0.962985  15.715582  \n",
       "\n",
       "[20000 rows x 11 columns]"
      ]
     },
     "execution_count": 35,
     "metadata": {},
     "output_type": "execute_result"
    }
   ],
   "source": [
    "data"
   ]
  },
  {
   "cell_type": "code",
   "execution_count": 36,
   "metadata": {
    "ExecuteTime": {
     "end_time": "2021-03-15T09:21:21.714801Z",
     "start_time": "2021-03-15T09:21:21.343949Z"
    }
   },
   "outputs": [],
   "source": [
    "data.to_csv('friedman_with_2_abrupt_drift.csv', index=False)"
   ]
  },
  {
   "cell_type": "code",
   "execution_count": 37,
   "metadata": {
    "ExecuteTime": {
     "end_time": "2021-03-15T09:21:23.324473Z",
     "start_time": "2021-03-15T09:21:23.321242Z"
    }
   },
   "outputs": [],
   "source": [
    "import matplotlib.pyplot as plt"
   ]
  },
  {
   "cell_type": "code",
   "execution_count": 38,
   "metadata": {
    "ExecuteTime": {
     "end_time": "2021-03-15T09:21:24.699719Z",
     "start_time": "2021-03-15T09:21:24.341652Z"
    }
   },
   "outputs": [
    {
     "data": {
      "text/plain": [
       "[<matplotlib.lines.Line2D at 0x7ff6512e4a50>]"
      ]
     },
     "execution_count": 38,
     "metadata": {},
     "output_type": "execute_result"
    },
    {
     "data": {
      "image/png": "[encoded data removed]",
      "text/plain": [
       "<Figure size 432x288 with 1 Axes>"
      ]
     },
     "metadata": {
      "needs_background": "light"
     },
     "output_type": "display_data"
    }
   ],
   "source": [
    "plt.plot(data['x1'])"
   ]
  },
  {
   "cell_type": "code",
   "execution_count": 39,
   "metadata": {
    "ExecuteTime": {
     "end_time": "2021-03-15T09:21:37.544637Z",
     "start_time": "2021-03-15T09:21:37.541819Z"
    }
   },
   "outputs": [],
   "source": [
    "#plt.plot(data['y_global_abrupt3'])"
   ]
  },
  {
   "cell_type": "code",
   "execution_count": 40,
   "metadata": {
    "ExecuteTime": {
     "end_time": "2021-03-15T09:21:42.460497Z",
     "start_time": "2021-03-15T09:21:37.741620Z"
    }
   },
   "outputs": [
    {
     "data": {
      "image/png": "[encoded data removed]",
      "text/plain": [
       "<Figure size 1080x288 with 3 Axes>"
      ]
     },
     "metadata": {
      "needs_background": "light"
     },
     "output_type": "display_data"
    }
   ],
   "source": [
    "import matplotlib.ticker as ticker\n",
    "\n",
    "#Plot features\n",
    "font = {'size'   : 14}\n",
    "\n",
    "plt.rc('font', **font)\n",
    "fig, ax = plt.subplots(1, 3, figsize=(15,4))\n",
    "\n",
    "\n",
    "ax[0].plot(data['x1'])\n",
    "ax[0].set_title('Feature: x1 (Drift)')\n",
    "ax[0].xaxis.set_major_formatter(ticker.FuncFormatter(lambda x, pos: '{}'.format(int(x/1000)) + 'k'))\n",
    "\n",
    "ax[1].plot(data['x2'])\n",
    "ax[1].set_title('Feature: x2 (No Drift)')\n",
    "ax[1].xaxis.set_major_formatter(ticker.FuncFormatter(lambda x, pos: '{}'.format(int(x/1000)) + 'k'))\n",
    "\n",
    "#ax[2].plot(data['y_global_abrupt3'])\n",
    "#ax[2].set_title('Target')\n",
    "#ax[2].xaxis.set_major_formatter(ticker.FuncFormatter(lambda x, pos: '{}'.format(int(x/1000)) + 'k'))\n",
    "\n",
    "\n",
    "\n",
    "plt.savefig('friedman_abrupt.png', bbox_inches='tight', dpi=300)\n"
   ]
  },
  {
   "cell_type": "code",
   "execution_count": null,
   "metadata": {},
   "outputs": [],
   "source": []
  }
 ],
 "metadata": {
  "kernelspec": {
   "display_name": "Python 3",
   "language": "python",
   "name": "python3"
  },
  "language_info": {
   "codemirror_mode": {
    "name": "ipython",
    "version": 3
   },
   "file_extension": ".py",
   "mimetype": "text/x-python",
   "name": "python",
   "nbconvert_exporter": "python",
   "pygments_lexer": "ipython3",
   "version": "3.7.4"
  },
  "toc": {
   "base_numbering": 1,
   "nav_menu": {},
   "number_sections": true,
   "sideBar": false,
   "skip_h1_title": false,
   "title_cell": "Table of Contents",
   "title_sidebar": "Contents",
   "toc_cell": false,
   "toc_position": {},
   "toc_section_display": true,
   "toc_window_display": false
  }
 },
 "nbformat": 4,
 "nbformat_minor": 4
}
