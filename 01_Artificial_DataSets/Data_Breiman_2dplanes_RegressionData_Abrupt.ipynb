{
 "cells": [
  {
   "cell_type": "markdown",
   "metadata": {},
   "source": [
    "### Breiman - 2Dplanes - Regression - Abrupt"
   ]
  },
  {
   "cell_type": "code",
   "execution_count": 1,
   "metadata": {},
   "outputs": [],
   "source": [
    "import numpy as np\n",
    "import pandas as pd\n",
    "import matplotlib.pyplot as plt"
   ]
  },
  {
   "cell_type": "code",
   "execution_count": 2,
   "metadata": {},
   "outputs": [],
   "source": [
    "x1 = np.random.choice([-1,1], size=20000)"
   ]
  },
  {
   "cell_type": "code",
   "execution_count": 3,
   "metadata": {},
   "outputs": [],
   "source": [
    "x2 = np.random.randint(-1,2, size=20000)\n",
    "x3 = np.random.randint(-1,2, size=20000)\n",
    "x4 = np.random.randint(-1,2, size=20000)\n",
    "x5 = np.random.randint(-1,2, size=20000)\n",
    "x6 = np.random.randint(-1,2, size=20000)\n",
    "x7 = np.random.randint(-1,2, size=20000)\n",
    "x8 = np.random.randint(-1,2, size=20000)\n",
    "x9 = np.random.randint(-1,2, size=20000)\n",
    "x10 = np.random.randint(-1,2, size=20000)"
   ]
  },
  {
   "cell_type": "markdown",
   "metadata": {},
   "source": [
    "#### Drifts\n",
    "\n",
    "1. Drift @ [5000:7500]: x1 now np.random.choice([-2,-1,1,2])\n",
    "2. Drift @ [10000:12500]: x4,x5,x6,x7 now np.random.randint(-2,3)\n",
    "3. Drift @ [15000:17500]: Drift 1 and 2 appear together"
   ]
  },
  {
   "cell_type": "code",
   "execution_count": 4,
   "metadata": {},
   "outputs": [],
   "source": [
    "#Create drift 1\n",
    "x1[5000:7500] = np.random.choice([-2,-1,1,2], size=2500)\n",
    "\n",
    "#Create drift 2\n",
    "x4[10000:12500] = np.random.randint(-2,3, size=2500)\n",
    "x5[10000:12500] = np.random.randint(-2,3, size=2500)\n",
    "x6[10000:12500] = np.random.randint(-2,3, size=2500)\n",
    "x7[10000:12500] = np.random.randint(-2,3, size=2500)\n",
    "\n",
    "#Create drift 3\n",
    "\n",
    "x1[15000:17500] = np.random.choice([-2,-1,1,2], size=2500)\n",
    "x4[15000:17500] = np.random.randint(-2,3, size=2500)\n",
    "x5[15000:17500] = np.random.randint(-2,3, size=2500)\n",
    "x6[15000:17500] = np.random.randint(-2,3, size=2500)\n",
    "x7[15000:17500] = np.random.randint(-2,3, size=2500)"
   ]
  },
  {
   "cell_type": "code",
   "execution_count": 5,
   "metadata": {},
   "outputs": [],
   "source": [
    "y = np.where(np.sign(x1)==1, 3+3*x2+2*x3+1*x4+np.random.normal(0,1,size=20000), -3+3*x5+2*x6+1*x7+np.random.normal(0,1,size=20000))"
   ]
  },
  {
   "cell_type": "code",
   "execution_count": 6,
   "metadata": {},
   "outputs": [],
   "source": [
    "data = pd.DataFrame([x1,x2,x3,x4,x5,x6,x7,x8,x9,x10, y]).transpose()\n",
    "data.columns = ['x1','x2','x3','x4','x5','x6','x7','x8','x9','x10', 'y']"
   ]
  },
  {
   "cell_type": "code",
   "execution_count": 7,
   "metadata": {},
   "outputs": [
    {
     "data": {
      "text/html": [
       "<div>\n",
       "<style scoped>\n",
       "    .dataframe tbody tr th:only-of-type {\n",
       "        vertical-align: middle;\n",
       "    }\n",
       "\n",
       "    .dataframe tbody tr th {\n",
       "        vertical-align: top;\n",
       "    }\n",
       "\n",
       "    .dataframe thead th {\n",
       "        text-align: right;\n",
       "    }\n",
       "</style>\n",
       "<table border=\"1\" class=\"dataframe\">\n",
       "  <thead>\n",
       "    <tr style=\"text-align: right;\">\n",
       "      <th></th>\n",
       "      <th>x1</th>\n",
       "      <th>x2</th>\n",
       "      <th>x3</th>\n",
       "      <th>x4</th>\n",
       "      <th>x5</th>\n",
       "      <th>x6</th>\n",
       "      <th>x7</th>\n",
       "      <th>x8</th>\n",
       "      <th>x9</th>\n",
       "      <th>x10</th>\n",
       "      <th>y</th>\n",
       "    </tr>\n",
       "  </thead>\n",
       "  <tbody>\n",
       "    <tr>\n",
       "      <th>0</th>\n",
       "      <td>1.0</td>\n",
       "      <td>1.0</td>\n",
       "      <td>1.0</td>\n",
       "      <td>-1.0</td>\n",
       "      <td>0.0</td>\n",
       "      <td>0.0</td>\n",
       "      <td>0.0</td>\n",
       "      <td>0.0</td>\n",
       "      <td>-1.0</td>\n",
       "      <td>-1.0</td>\n",
       "      <td>6.787251</td>\n",
       "    </tr>\n",
       "    <tr>\n",
       "      <th>1</th>\n",
       "      <td>1.0</td>\n",
       "      <td>1.0</td>\n",
       "      <td>0.0</td>\n",
       "      <td>0.0</td>\n",
       "      <td>1.0</td>\n",
       "      <td>-1.0</td>\n",
       "      <td>-1.0</td>\n",
       "      <td>-1.0</td>\n",
       "      <td>1.0</td>\n",
       "      <td>0.0</td>\n",
       "      <td>4.786390</td>\n",
       "    </tr>\n",
       "    <tr>\n",
       "      <th>2</th>\n",
       "      <td>-1.0</td>\n",
       "      <td>1.0</td>\n",
       "      <td>-1.0</td>\n",
       "      <td>1.0</td>\n",
       "      <td>0.0</td>\n",
       "      <td>0.0</td>\n",
       "      <td>-1.0</td>\n",
       "      <td>0.0</td>\n",
       "      <td>-1.0</td>\n",
       "      <td>-1.0</td>\n",
       "      <td>-3.472399</td>\n",
       "    </tr>\n",
       "    <tr>\n",
       "      <th>3</th>\n",
       "      <td>-1.0</td>\n",
       "      <td>-1.0</td>\n",
       "      <td>1.0</td>\n",
       "      <td>0.0</td>\n",
       "      <td>-1.0</td>\n",
       "      <td>0.0</td>\n",
       "      <td>-1.0</td>\n",
       "      <td>0.0</td>\n",
       "      <td>0.0</td>\n",
       "      <td>1.0</td>\n",
       "      <td>-5.935894</td>\n",
       "    </tr>\n",
       "    <tr>\n",
       "      <th>4</th>\n",
       "      <td>-1.0</td>\n",
       "      <td>0.0</td>\n",
       "      <td>1.0</td>\n",
       "      <td>0.0</td>\n",
       "      <td>1.0</td>\n",
       "      <td>1.0</td>\n",
       "      <td>-1.0</td>\n",
       "      <td>-1.0</td>\n",
       "      <td>1.0</td>\n",
       "      <td>-1.0</td>\n",
       "      <td>2.425720</td>\n",
       "    </tr>\n",
       "  </tbody>\n",
       "</table>\n",
       "</div>"
      ],
      "text/plain": [
       "    x1   x2   x3   x4   x5   x6   x7   x8   x9  x10         y\n",
       "0  1.0  1.0  1.0 -1.0  0.0  0.0  0.0  0.0 -1.0 -1.0  6.787251\n",
       "1  1.0  1.0  0.0  0.0  1.0 -1.0 -1.0 -1.0  1.0  0.0  4.786390\n",
       "2 -1.0  1.0 -1.0  1.0  0.0  0.0 -1.0  0.0 -1.0 -1.0 -3.472399\n",
       "3 -1.0 -1.0  1.0  0.0 -1.0  0.0 -1.0  0.0  0.0  1.0 -5.935894\n",
       "4 -1.0  0.0  1.0  0.0  1.0  1.0 -1.0 -1.0  1.0 -1.0  2.425720"
      ]
     },
     "execution_count": 7,
     "metadata": {},
     "output_type": "execute_result"
    }
   ],
   "source": [
    "data.head()"
   ]
  },
  {
   "cell_type": "code",
   "execution_count": 8,
   "metadata": {},
   "outputs": [],
   "source": [
    "data.to_csv('2dplanes_with_3_abrupt_drift.csv', index=False)"
   ]
  },
  {
   "cell_type": "code",
   "execution_count": 11,
   "metadata": {},
   "outputs": [
    {
     "data": {
      "image/png": "[encoded data removed]",
      "text/plain": [
       "<Figure size 1080x288 with 3 Axes>"
      ]
     },
     "metadata": {
      "needs_background": "light"
     },
     "output_type": "display_data"
    }
   ],
   "source": [
    "import matplotlib.ticker as ticker\n",
    "\n",
    "#Plot features\n",
    "font = {'size'   : 14}\n",
    "\n",
    "plt.rc('font', **font)\n",
    "fig, ax = plt.subplots(1, 3, figsize=(15,4))\n",
    "\n",
    "\n",
    "ax[0].plot(data['x1'])\n",
    "ax[0].set_title('Feature: x1 (Drift)')\n",
    "ax[0].xaxis.set_major_formatter(ticker.FuncFormatter(lambda x, pos: '{}'.format(int(x/1000)) + 'k'))\n",
    "\n",
    "ax[1].plot(data['x2'])\n",
    "ax[1].set_title('Feature: x2 (No Drift)')\n",
    "ax[1].xaxis.set_major_formatter(ticker.FuncFormatter(lambda x, pos: '{}'.format(int(x/1000)) + 'k'))\n",
    "\n",
    "ax[2].plot(data['y'])\n",
    "ax[2].set_title('Target')\n",
    "ax[2].xaxis.set_major_formatter(ticker.FuncFormatter(lambda x, pos: '{}'.format(int(x/1000)) + 'k'))\n",
    "\n",
    "\n",
    "\n",
    "plt.savefig('2dplanes_abrupt.png', bbox_inches='tight', dpi=300)"
   ]
  },
  {
   "cell_type": "code",
   "execution_count": null,
   "metadata": {},
   "outputs": [],
   "source": []
  }
 ],
 "metadata": {
  "kernelspec": {
   "display_name": "Python 3",
   "language": "python",
   "name": "python3"
  },
  "language_info": {
   "codemirror_mode": {
    "name": "ipython",
    "version": 3
   },
   "file_extension": ".py",
   "mimetype": "text/x-python",
   "name": "python",
   "nbconvert_exporter": "python",
   "pygments_lexer": "ipython3",
   "version": "3.7.6"
  }
 },
 "nbformat": 4,
 "nbformat_minor": 4
}
