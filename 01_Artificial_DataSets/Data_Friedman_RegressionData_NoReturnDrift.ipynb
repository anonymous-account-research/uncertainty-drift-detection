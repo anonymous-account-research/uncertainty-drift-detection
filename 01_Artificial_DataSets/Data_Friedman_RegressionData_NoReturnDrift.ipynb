{
 "cells": [
  {
   "cell_type": "code",
   "execution_count": 30,
   "metadata": {},
   "outputs": [],
   "source": [
    "import numpy as np\n",
    "import pandas as pd"
   ]
  },
  {
   "cell_type": "code",
   "execution_count": 37,
   "metadata": {},
   "outputs": [],
   "source": [
    "x1 = np.random.uniform(0,1,20000)\n",
    "x2 = np.random.uniform(0,1,20000)\n",
    "x3 = np.random.uniform(0,1,20000)\n",
    "x4 = np.random.uniform(0,1,20000)\n",
    "x5 = np.random.uniform(0,1,20000)\n",
    "x6 = np.random.uniform(0,1,20000)\n",
    "x7 = np.random.uniform(0,1,20000)\n",
    "x8 = np.random.uniform(0,1,20000)\n",
    "x9 = np.random.uniform(0,1,20000)\n",
    "x10= np.random.uniform(0,1,20000)"
   ]
  },
  {
   "cell_type": "markdown",
   "metadata": {},
   "source": [
    "### Create Drifts\n",
    "One incremntal drift:\n",
    "\n",
    "Start @ [5000]: changes x1, x3 and x5. They are now drawn from np.random.uniform(0,1+i) with i = 1\n",
    "After every 1000 datapoints x1, x3 and x5 i += 1.\n",
    "Stop when i = 10"
   ]
  },
  {
   "cell_type": "code",
   "execution_count": 38,
   "metadata": {},
   "outputs": [],
   "source": [
    "j = 0\n",
    "for i in range(1,6):\n",
    "    x1[4000+j:5000+j]=np.random.uniform(0,1+i,1000)\n",
    "    x3[4000+j:5000+j]=np.random.uniform(0,1+i,1000)\n",
    "    x5[4000+j:5000+j]=np.random.uniform(0,1+i,1000)\n",
    "    \n",
    "    j += 1000\n",
    "    \n",
    "x1[10000:12000]=np.random.uniform(4,5,2000)\n",
    "x3[10000:12000]=np.random.uniform(4,5,2000)\n",
    "x5[10000:12000]=np.random.uniform(4,5,2000)\n",
    "\n",
    "x1[12000:14000]=np.random.uniform(6,7,2000)\n",
    "x3[12000:14000]=np.random.uniform(6,7,2000)\n",
    "x5[12000:14000]=np.random.uniform(6,7,2000)\n",
    "\n",
    "prob = 0\n",
    "for i in range(14001,20000):\n",
    "    \n",
    "    if i % 1000 == 0:\n",
    "        prob += 0.1\n",
    "    \n",
    "    if np.random.uniform(prob,1,1) > 0.5:\n",
    "        x1[i]=np.random.uniform(0,6,1)\n",
    "        x3[i]=np.random.uniform(0,6,1)\n",
    "        x5[i]=np.random.uniform(0,6,1)\n",
    "        \n",
    "    else:\n",
    "        x1[i]=np.random.uniform(6,7,1)\n",
    "        x3[i]=np.random.uniform(6,7,1)\n",
    "        x5[i]=np.random.uniform(6,7,1)\n",
    "\n",
    "y = 10*np.sin(np.pi*x1*x2)+20*(x3-0.5)**2 + 10*x4 + 5*x5 + np.random.normal(0,1)\n"
   ]
  },
  {
   "cell_type": "code",
   "execution_count": 39,
   "metadata": {},
   "outputs": [],
   "source": [
    "data = pd.DataFrame([x1,x2,x3,x4,x5,x6,x7,x8,x9,x10,y]).transpose()\n",
    "data.columns = ['x1','x2','x3','x4','x5','x6','x7','x8','x9','x10', 'y']"
   ]
  },
  {
   "cell_type": "code",
   "execution_count": 40,
   "metadata": {},
   "outputs": [
    {
     "data": {
      "text/html": [
       "<div>\n",
       "<style scoped>\n",
       "    .dataframe tbody tr th:only-of-type {\n",
       "        vertical-align: middle;\n",
       "    }\n",
       "\n",
       "    .dataframe tbody tr th {\n",
       "        vertical-align: top;\n",
       "    }\n",
       "\n",
       "    .dataframe thead th {\n",
       "        text-align: right;\n",
       "    }\n",
       "</style>\n",
       "<table border=\"1\" class=\"dataframe\">\n",
       "  <thead>\n",
       "    <tr style=\"text-align: right;\">\n",
       "      <th></th>\n",
       "      <th>x1</th>\n",
       "      <th>x2</th>\n",
       "      <th>x3</th>\n",
       "      <th>x4</th>\n",
       "      <th>x5</th>\n",
       "      <th>x6</th>\n",
       "      <th>x7</th>\n",
       "      <th>x8</th>\n",
       "      <th>x9</th>\n",
       "      <th>x10</th>\n",
       "      <th>y</th>\n",
       "    </tr>\n",
       "  </thead>\n",
       "  <tbody>\n",
       "    <tr>\n",
       "      <th>0</th>\n",
       "      <td>0.897321</td>\n",
       "      <td>0.871495</td>\n",
       "      <td>0.981482</td>\n",
       "      <td>0.877933</td>\n",
       "      <td>0.235587</td>\n",
       "      <td>0.913040</td>\n",
       "      <td>0.625955</td>\n",
       "      <td>0.206052</td>\n",
       "      <td>0.271606</td>\n",
       "      <td>0.922445</td>\n",
       "      <td>20.093205</td>\n",
       "    </tr>\n",
       "    <tr>\n",
       "      <th>1</th>\n",
       "      <td>0.736969</td>\n",
       "      <td>0.413174</td>\n",
       "      <td>0.807349</td>\n",
       "      <td>0.684588</td>\n",
       "      <td>0.883988</td>\n",
       "      <td>0.512864</td>\n",
       "      <td>0.166916</td>\n",
       "      <td>0.871917</td>\n",
       "      <td>0.539002</td>\n",
       "      <td>0.410409</td>\n",
       "      <td>20.501513</td>\n",
       "    </tr>\n",
       "    <tr>\n",
       "      <th>2</th>\n",
       "      <td>0.774969</td>\n",
       "      <td>0.670499</td>\n",
       "      <td>0.187000</td>\n",
       "      <td>0.540838</td>\n",
       "      <td>0.062420</td>\n",
       "      <td>0.338006</td>\n",
       "      <td>0.071489</td>\n",
       "      <td>0.089775</td>\n",
       "      <td>0.813275</td>\n",
       "      <td>0.227461</td>\n",
       "      <td>16.834902</td>\n",
       "    </tr>\n",
       "    <tr>\n",
       "      <th>3</th>\n",
       "      <td>0.548341</td>\n",
       "      <td>0.273407</td>\n",
       "      <td>0.092220</td>\n",
       "      <td>0.453832</td>\n",
       "      <td>0.196873</td>\n",
       "      <td>0.169741</td>\n",
       "      <td>0.251528</td>\n",
       "      <td>0.072348</td>\n",
       "      <td>0.136957</td>\n",
       "      <td>0.990100</td>\n",
       "      <td>12.560081</td>\n",
       "    </tr>\n",
       "    <tr>\n",
       "      <th>4</th>\n",
       "      <td>0.944682</td>\n",
       "      <td>0.398486</td>\n",
       "      <td>0.564490</td>\n",
       "      <td>0.483747</td>\n",
       "      <td>0.278871</td>\n",
       "      <td>0.295531</td>\n",
       "      <td>0.517975</td>\n",
       "      <td>0.458322</td>\n",
       "      <td>0.278207</td>\n",
       "      <td>0.772571</td>\n",
       "      <td>14.745078</td>\n",
       "    </tr>\n",
       "    <tr>\n",
       "      <th>...</th>\n",
       "      <td>...</td>\n",
       "      <td>...</td>\n",
       "      <td>...</td>\n",
       "      <td>...</td>\n",
       "      <td>...</td>\n",
       "      <td>...</td>\n",
       "      <td>...</td>\n",
       "      <td>...</td>\n",
       "      <td>...</td>\n",
       "      <td>...</td>\n",
       "      <td>...</td>\n",
       "    </tr>\n",
       "    <tr>\n",
       "      <th>19995</th>\n",
       "      <td>5.786531</td>\n",
       "      <td>0.037321</td>\n",
       "      <td>4.640778</td>\n",
       "      <td>0.293583</td>\n",
       "      <td>0.789468</td>\n",
       "      <td>0.992683</td>\n",
       "      <td>0.545693</td>\n",
       "      <td>0.073721</td>\n",
       "      <td>0.630606</td>\n",
       "      <td>0.876233</td>\n",
       "      <td>355.253923</td>\n",
       "    </tr>\n",
       "    <tr>\n",
       "      <th>19996</th>\n",
       "      <td>5.902571</td>\n",
       "      <td>0.946868</td>\n",
       "      <td>1.139992</td>\n",
       "      <td>0.453205</td>\n",
       "      <td>2.332299</td>\n",
       "      <td>0.987149</td>\n",
       "      <td>0.321964</td>\n",
       "      <td>0.638116</td>\n",
       "      <td>0.700106</td>\n",
       "      <td>0.779147</td>\n",
       "      <td>13.947344</td>\n",
       "    </tr>\n",
       "    <tr>\n",
       "      <th>19997</th>\n",
       "      <td>3.464108</td>\n",
       "      <td>0.530671</td>\n",
       "      <td>0.304673</td>\n",
       "      <td>0.505173</td>\n",
       "      <td>2.151635</td>\n",
       "      <td>0.082599</td>\n",
       "      <td>0.094496</td>\n",
       "      <td>0.051476</td>\n",
       "      <td>0.373486</td>\n",
       "      <td>0.985452</td>\n",
       "      <td>10.882763</td>\n",
       "    </tr>\n",
       "    <tr>\n",
       "      <th>19998</th>\n",
       "      <td>3.919626</td>\n",
       "      <td>0.839989</td>\n",
       "      <td>2.232013</td>\n",
       "      <td>0.727648</td>\n",
       "      <td>0.212811</td>\n",
       "      <td>0.613633</td>\n",
       "      <td>0.909225</td>\n",
       "      <td>0.791047</td>\n",
       "      <td>0.583197</td>\n",
       "      <td>0.543694</td>\n",
       "      <td>59.563621</td>\n",
       "    </tr>\n",
       "    <tr>\n",
       "      <th>19999</th>\n",
       "      <td>1.521179</td>\n",
       "      <td>0.088335</td>\n",
       "      <td>4.053943</td>\n",
       "      <td>0.345498</td>\n",
       "      <td>2.496431</td>\n",
       "      <td>0.582812</td>\n",
       "      <td>0.273318</td>\n",
       "      <td>0.186620</td>\n",
       "      <td>0.439179</td>\n",
       "      <td>0.402553</td>\n",
       "      <td>271.818617</td>\n",
       "    </tr>\n",
       "  </tbody>\n",
       "</table>\n",
       "<p>20000 rows × 11 columns</p>\n",
       "</div>"
      ],
      "text/plain": [
       "             x1        x2        x3        x4        x5        x6        x7  \\\n",
       "0      0.897321  0.871495  0.981482  0.877933  0.235587  0.913040  0.625955   \n",
       "1      0.736969  0.413174  0.807349  0.684588  0.883988  0.512864  0.166916   \n",
       "2      0.774969  0.670499  0.187000  0.540838  0.062420  0.338006  0.071489   \n",
       "3      0.548341  0.273407  0.092220  0.453832  0.196873  0.169741  0.251528   \n",
       "4      0.944682  0.398486  0.564490  0.483747  0.278871  0.295531  0.517975   \n",
       "...         ...       ...       ...       ...       ...       ...       ...   \n",
       "19995  5.786531  0.037321  4.640778  0.293583  0.789468  0.992683  0.545693   \n",
       "19996  5.902571  0.946868  1.139992  0.453205  2.332299  0.987149  0.321964   \n",
       "19997  3.464108  0.530671  0.304673  0.505173  2.151635  0.082599  0.094496   \n",
       "19998  3.919626  0.839989  2.232013  0.727648  0.212811  0.613633  0.909225   \n",
       "19999  1.521179  0.088335  4.053943  0.345498  2.496431  0.582812  0.273318   \n",
       "\n",
       "             x8        x9       x10           y  \n",
       "0      0.206052  0.271606  0.922445   20.093205  \n",
       "1      0.871917  0.539002  0.410409   20.501513  \n",
       "2      0.089775  0.813275  0.227461   16.834902  \n",
       "3      0.072348  0.136957  0.990100   12.560081  \n",
       "4      0.458322  0.278207  0.772571   14.745078  \n",
       "...         ...       ...       ...         ...  \n",
       "19995  0.073721  0.630606  0.876233  355.253923  \n",
       "19996  0.638116  0.700106  0.779147   13.947344  \n",
       "19997  0.051476  0.373486  0.985452   10.882763  \n",
       "19998  0.791047  0.583197  0.543694   59.563621  \n",
       "19999  0.186620  0.439179  0.402553  271.818617  \n",
       "\n",
       "[20000 rows x 11 columns]"
      ]
     },
     "execution_count": 40,
     "metadata": {},
     "output_type": "execute_result"
    }
   ],
   "source": [
    "data"
   ]
  },
  {
   "cell_type": "code",
   "execution_count": 45,
   "metadata": {},
   "outputs": [],
   "source": [
    "data.to_csv('friedman_with_noreturn_drift.csv', index=False)"
   ]
  },
  {
   "cell_type": "code",
   "execution_count": 41,
   "metadata": {},
   "outputs": [
    {
     "data": {
      "text/plain": [
       "[<matplotlib.lines.Line2D at 0x7fc8f860bf90>]"
      ]
     },
     "execution_count": 41,
     "metadata": {},
     "output_type": "execute_result"
    },
    {
     "data": {
      "image/png": "[encoded data removed]",
      "text/plain": [
       "<Figure size 432x288 with 1 Axes>"
      ]
     },
     "metadata": {
      "needs_background": "light"
     },
     "output_type": "display_data"
    }
   ],
   "source": [
    "import matplotlib.pyplot as plt\n",
    "plt.plot(data['x1'])"
   ]
  },
  {
   "cell_type": "code",
   "execution_count": 44,
   "metadata": {},
   "outputs": [
    {
     "data": {
      "text/plain": [
       "[<matplotlib.lines.Line2D at 0x7fc8ff818f50>]"
      ]
     },
     "execution_count": 44,
     "metadata": {},
     "output_type": "execute_result"
    },
    {
     "data": {
      "image/png": "[encoded data removed]",
      "text/plain": [
       "<Figure size 432x288 with 1 Axes>"
      ]
     },
     "metadata": {
      "needs_background": "light"
     },
     "output_type": "display_data"
    }
   ],
   "source": [
    "plt.plot(data['y'].rolling(10).mean())"
   ]
  },
  {
   "cell_type": "code",
   "execution_count": null,
   "metadata": {},
   "outputs": [],
   "source": []
  }
 ],
 "metadata": {
  "kernelspec": {
   "display_name": "Python 3",
   "language": "python",
   "name": "python3"
  },
  "language_info": {
   "codemirror_mode": {
    "name": "ipython",
    "version": 3
   },
   "file_extension": ".py",
   "mimetype": "text/x-python",
   "name": "python",
   "nbconvert_exporter": "python",
   "pygments_lexer": "ipython3",
   "version": "3.7.6"
  }
 },
 "nbformat": 4,
 "nbformat_minor": 4
}
