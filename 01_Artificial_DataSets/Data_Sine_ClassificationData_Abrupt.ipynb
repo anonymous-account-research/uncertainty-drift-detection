{
 "cells": [
  {
   "cell_type": "code",
   "execution_count": 87,
   "metadata": {
    "ExecuteTime": {
     "end_time": "2021-03-16T15:21:27.022869Z",
     "start_time": "2021-03-16T15:21:27.020093Z"
    }
   },
   "outputs": [],
   "source": [
    "import numpy as np\n",
    "import pandas as pd"
   ]
  },
  {
   "cell_type": "code",
   "execution_count": 88,
   "metadata": {
    "ExecuteTime": {
     "end_time": "2021-03-16T15:21:27.249139Z",
     "start_time": "2021-03-16T15:21:27.244040Z"
    }
   },
   "outputs": [],
   "source": [
    "x1 = np.random.uniform(0,1,20000)\n",
    "x2 = np.random.uniform(0,1,20000)\n",
    "\n",
    "# noise\n",
    "x3 = np.random.uniform(0,1,20000)\n",
    "x4 = np.random.uniform(0,1,20000)"
   ]
  },
  {
   "cell_type": "markdown",
   "metadata": {},
   "source": [
    "### Concept Drifts\n",
    "\n",
    "1. @ [2000:3000]: x1 and x2 now np.random.uniform(1,2)\n",
    "2. @ [5000:7500]: x1 and x2 now np.random.uniform(1,2)\n",
    "3. @ [10000:12500]: cond is now x2>np.cos(x1)\n",
    "4. @ [15000:17500]: x1 and x2 now np.random.uniform(1,3)"
   ]
  },
  {
   "cell_type": "code",
   "execution_count": 101,
   "metadata": {
    "ExecuteTime": {
     "end_time": "2021-03-16T15:24:33.201349Z",
     "start_time": "2021-03-16T15:24:33.193335Z"
    }
   },
   "outputs": [],
   "source": [
    "# Drift validation data\n",
    "x1[2000:3000]=np.random.uniform(-2,0,1000)\n",
    "#x2[2000:3000]=np.random.uniform(1,2,1000)\n",
    "#y[2000:3000]= np.where(x2[2000:3000] > np.sin(x1[2000:3000]), np.ones(1000, dtype=np.int8), np.zeros(1000, dtype=np.int8))\n",
    "\n",
    "# Drift 1\n",
    "x1[5000:7500]=np.random.uniform(0.5,2,2500)\n",
    "x2[5000:7500]=np.random.uniform(0.5,2,2500)\n",
    "#y[5000:7500]= np.where(x2[5000:7500] > np.sin(x1[5000:7500]), np.ones(2500, dtype=np.int8), np.zeros(2500, dtype=np.int8))\n",
    "\n",
    "#Drift 2\n",
    "x3[10000:12500]=np.random.uniform(1,2,2500)\n",
    "x4[10000:12500]=np.random.uniform(1,2,2500)\n",
    "\n",
    "#Drift 3\n",
    "x1[15000:17500]=np.random.uniform(-3,0.5,2500)\n",
    "x2[15000:17500]=np.random.uniform(-3,0.5,2500)\n",
    "#y[15000:17500]= np.where(x2[15000:17500] > np.sin(x1[15000:17500]), np.ones(2500, dtype=np.int8), np.zeros(2500, dtype=np.int8))\n",
    "\n",
    "y= np.where(x2 > np.sin(x1), np.ones(20000, dtype=np.int8), np.zeros(20000, dtype=np.int8))"
   ]
  },
  {
   "cell_type": "code",
   "execution_count": 102,
   "metadata": {
    "ExecuteTime": {
     "end_time": "2021-03-16T15:24:34.501564Z",
     "start_time": "2021-03-16T15:24:33.584321Z"
    }
   },
   "outputs": [],
   "source": [
    "data = pd.DataFrame([x1,x2,x3,x4,y]).transpose()\n",
    "data.columns = ['x1','x2','x3','x4', 'y']\n",
    "data['y'] = data['y'].astype('int32')"
   ]
  },
  {
   "cell_type": "code",
   "execution_count": 103,
   "metadata": {
    "ExecuteTime": {
     "end_time": "2021-03-16T15:24:34.516182Z",
     "start_time": "2021-03-16T15:24:34.504100Z"
    }
   },
   "outputs": [
    {
     "data": {
      "text/html": [
       "<div>\n",
       "<style scoped>\n",
       "    .dataframe tbody tr th:only-of-type {\n",
       "        vertical-align: middle;\n",
       "    }\n",
       "\n",
       "    .dataframe tbody tr th {\n",
       "        vertical-align: top;\n",
       "    }\n",
       "\n",
       "    .dataframe thead th {\n",
       "        text-align: right;\n",
       "    }\n",
       "</style>\n",
       "<table border=\"1\" class=\"dataframe\">\n",
       "  <thead>\n",
       "    <tr style=\"text-align: right;\">\n",
       "      <th></th>\n",
       "      <th>x1</th>\n",
       "      <th>x2</th>\n",
       "      <th>x3</th>\n",
       "      <th>x4</th>\n",
       "      <th>y</th>\n",
       "    </tr>\n",
       "  </thead>\n",
       "  <tbody>\n",
       "    <tr>\n",
       "      <td>0</td>\n",
       "      <td>0.178780</td>\n",
       "      <td>0.157031</td>\n",
       "      <td>0.654052</td>\n",
       "      <td>0.345147</td>\n",
       "      <td>0</td>\n",
       "    </tr>\n",
       "    <tr>\n",
       "      <td>1</td>\n",
       "      <td>0.924182</td>\n",
       "      <td>0.806813</td>\n",
       "      <td>0.219280</td>\n",
       "      <td>0.590554</td>\n",
       "      <td>1</td>\n",
       "    </tr>\n",
       "    <tr>\n",
       "      <td>2</td>\n",
       "      <td>0.117018</td>\n",
       "      <td>0.353129</td>\n",
       "      <td>0.989937</td>\n",
       "      <td>0.413685</td>\n",
       "      <td>1</td>\n",
       "    </tr>\n",
       "    <tr>\n",
       "      <td>3</td>\n",
       "      <td>0.298150</td>\n",
       "      <td>0.761913</td>\n",
       "      <td>0.923588</td>\n",
       "      <td>0.670785</td>\n",
       "      <td>1</td>\n",
       "    </tr>\n",
       "    <tr>\n",
       "      <td>4</td>\n",
       "      <td>0.363490</td>\n",
       "      <td>0.307340</td>\n",
       "      <td>0.922292</td>\n",
       "      <td>0.885675</td>\n",
       "      <td>0</td>\n",
       "    </tr>\n",
       "    <tr>\n",
       "      <td>...</td>\n",
       "      <td>...</td>\n",
       "      <td>...</td>\n",
       "      <td>...</td>\n",
       "      <td>...</td>\n",
       "      <td>...</td>\n",
       "    </tr>\n",
       "    <tr>\n",
       "      <td>19995</td>\n",
       "      <td>0.472443</td>\n",
       "      <td>0.685196</td>\n",
       "      <td>0.785525</td>\n",
       "      <td>0.478573</td>\n",
       "      <td>1</td>\n",
       "    </tr>\n",
       "    <tr>\n",
       "      <td>19996</td>\n",
       "      <td>0.905745</td>\n",
       "      <td>0.105949</td>\n",
       "      <td>0.476787</td>\n",
       "      <td>0.319716</td>\n",
       "      <td>0</td>\n",
       "    </tr>\n",
       "    <tr>\n",
       "      <td>19997</td>\n",
       "      <td>0.144971</td>\n",
       "      <td>0.235350</td>\n",
       "      <td>0.357634</td>\n",
       "      <td>0.593831</td>\n",
       "      <td>1</td>\n",
       "    </tr>\n",
       "    <tr>\n",
       "      <td>19998</td>\n",
       "      <td>0.705002</td>\n",
       "      <td>0.080752</td>\n",
       "      <td>0.569303</td>\n",
       "      <td>0.964694</td>\n",
       "      <td>0</td>\n",
       "    </tr>\n",
       "    <tr>\n",
       "      <td>19999</td>\n",
       "      <td>0.439661</td>\n",
       "      <td>0.887080</td>\n",
       "      <td>0.003205</td>\n",
       "      <td>0.689636</td>\n",
       "      <td>1</td>\n",
       "    </tr>\n",
       "  </tbody>\n",
       "</table>\n",
       "<p>20000 rows × 5 columns</p>\n",
       "</div>"
      ],
      "text/plain": [
       "             x1        x2        x3        x4  y\n",
       "0      0.178780  0.157031  0.654052  0.345147  0\n",
       "1      0.924182  0.806813  0.219280  0.590554  1\n",
       "2      0.117018  0.353129  0.989937  0.413685  1\n",
       "3      0.298150  0.761913  0.923588  0.670785  1\n",
       "4      0.363490  0.307340  0.922292  0.885675  0\n",
       "...         ...       ...       ...       ... ..\n",
       "19995  0.472443  0.685196  0.785525  0.478573  1\n",
       "19996  0.905745  0.105949  0.476787  0.319716  0\n",
       "19997  0.144971  0.235350  0.357634  0.593831  1\n",
       "19998  0.705002  0.080752  0.569303  0.964694  0\n",
       "19999  0.439661  0.887080  0.003205  0.689636  1\n",
       "\n",
       "[20000 rows x 5 columns]"
      ]
     },
     "execution_count": 103,
     "metadata": {},
     "output_type": "execute_result"
    }
   ],
   "source": [
    "data"
   ]
  },
  {
   "cell_type": "code",
   "execution_count": 104,
   "metadata": {
    "ExecuteTime": {
     "end_time": "2021-03-16T15:24:34.812783Z",
     "start_time": "2021-03-16T15:24:34.648321Z"
    }
   },
   "outputs": [],
   "source": [
    "data.to_csv('sin_classification_3_drift.csv', index=False)"
   ]
  },
  {
   "cell_type": "code",
   "execution_count": 105,
   "metadata": {
    "ExecuteTime": {
     "end_time": "2021-03-16T15:24:35.168579Z",
     "start_time": "2021-03-16T15:24:35.165898Z"
    }
   },
   "outputs": [],
   "source": [
    "import matplotlib.pyplot as plt"
   ]
  },
  {
   "cell_type": "code",
   "execution_count": 106,
   "metadata": {
    "ExecuteTime": {
     "end_time": "2021-03-16T15:24:35.814064Z",
     "start_time": "2021-03-16T15:24:35.647657Z"
    }
   },
   "outputs": [
    {
     "data": {
      "text/plain": [
       "[<matplotlib.lines.Line2D at 0x7f85eb311a50>]"
      ]
     },
     "execution_count": 106,
     "metadata": {},
     "output_type": "execute_result"
    },
    {
     "data": {
      "image/png": "[encoded data removed]",
      "text/plain": [
       "<Figure size 432x288 with 1 Axes>"
      ]
     },
     "metadata": {
      "needs_background": "light"
     },
     "output_type": "display_data"
    }
   ],
   "source": [
    "plt.plot(data['y'].rolling(window=50).mean())"
   ]
  },
  {
   "cell_type": "code",
   "execution_count": 29,
   "metadata": {
    "ExecuteTime": {
     "end_time": "2021-03-16T10:30:40.611341Z",
     "start_time": "2021-03-16T10:30:40.317947Z"
    }
   },
   "outputs": [
    {
     "data": {
      "text/plain": [
       "[<matplotlib.lines.Line2D at 0x7f85e8c6b210>]"
      ]
     },
     "execution_count": 29,
     "metadata": {},
     "output_type": "execute_result"
    },
    {
     "data": {
      "image/png": "[encoded data removed]",
      "text/plain": [
       "<Figure size 432x288 with 1 Axes>"
      ]
     },
     "metadata": {
      "needs_background": "light"
     },
     "output_type": "display_data"
    }
   ],
   "source": [
    "plt.plot(data['x1'])"
   ]
  },
  {
   "cell_type": "code",
   "execution_count": 10,
   "metadata": {},
   "outputs": [
    {
     "data": {
      "image/png": "[encoded data removed]",
      "text/plain": [
       "<Figure size 1080x288 with 3 Axes>"
      ]
     },
     "metadata": {
      "needs_background": "light"
     },
     "output_type": "display_data"
    }
   ],
   "source": [
    "import matplotlib.pyplot as plt\n",
    "import matplotlib.ticker as ticker\n",
    "\n",
    "#Plot features\n",
    "font = {'size'   : 14}\n",
    "\n",
    "plt.rc('font', **font)\n",
    "fig, ax = plt.subplots(1, 3, figsize=(15,4))\n",
    "\n",
    "\n",
    "ax[0].plot(data['x1'])\n",
    "ax[0].set_title('Feature: x1 (Drift)')\n",
    "ax[0].xaxis.set_major_formatter(ticker.FuncFormatter(lambda x, pos: '{}'.format(int(x/1000)) + 'k'))\n",
    "\n",
    "ax[1].plot(data['x3'])\n",
    "ax[1].set_title('Feature: x3 (No Drift)')\n",
    "ax[1].xaxis.set_major_formatter(ticker.FuncFormatter(lambda x, pos: '{}'.format(int(x/1000)) + 'k'))\n",
    "\n",
    "ax[2].plot(data['y'].rolling(10).mean())\n",
    "ax[2].set_title('Target')\n",
    "ax[2].xaxis.set_major_formatter(ticker.FuncFormatter(lambda x, pos: '{}'.format(int(x/1000)) + 'k'))\n",
    "\n",
    "\n",
    "\n",
    "plt.savefig('sine_abrupt.png', bbox_inches='tight', dpi=300)"
   ]
  },
  {
   "cell_type": "code",
   "execution_count": null,
   "metadata": {},
   "outputs": [],
   "source": []
  }
 ],
 "metadata": {
  "kernelspec": {
   "display_name": "Python 3",
   "language": "python",
   "name": "python3"
  },
  "language_info": {
   "codemirror_mode": {
    "name": "ipython",
    "version": 3
   },
   "file_extension": ".py",
   "mimetype": "text/x-python",
   "name": "python",
   "nbconvert_exporter": "python",
   "pygments_lexer": "ipython3",
   "version": "3.7.4"
  },
  "toc": {
   "base_numbering": 1,
   "nav_menu": {},
   "number_sections": true,
   "sideBar": false,
   "skip_h1_title": false,
   "title_cell": "Table of Contents",
   "title_sidebar": "Contents",
   "toc_cell": false,
   "toc_position": {},
   "toc_section_display": true,
   "toc_window_display": false
  }
 },
 "nbformat": 4,
 "nbformat_minor": 4
}
