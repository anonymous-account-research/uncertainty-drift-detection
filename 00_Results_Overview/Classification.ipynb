{
 "cells": [
  {
   "cell_type": "code",
   "execution_count": 476,
   "id": "wanted-graph",
   "metadata": {},
   "outputs": [
    {
     "name": "stdout",
     "output_type": "stream",
     "text": [
      "The autoreload extension is already loaded. To reload it, use:\n",
      "  %reload_ext autoreload\n"
     ]
    }
   ],
   "source": [
    "from warnings import simplefilter\n",
    "# ignore all future warnings\n",
    "simplefilter(action='ignore', category=FutureWarning)\n",
    "simplefilter(action='ignore', category=RuntimeWarning)\n",
    "\n",
    "import sys\n",
    "import logging\n",
    "\n",
    "from scipy.io import arff\n",
    "\n",
    "import numpy as np\n",
    "import pandas as pd\n",
    "import matplotlib.pyplot as plt\n",
    "from skmultiflow.data import DataStream\n",
    "from scipy import stats\n",
    "from sklearn.metrics import mean_squared_error, mean_absolute_error, f1_score, precision_score, \\\n",
    "recall_score, brier_score_loss, log_loss, accuracy_score, roc_auc_score, matthews_corrcoef\n",
    "from sklearn.preprocessing import LabelBinarizer\n",
    "from scipy.stats import spearmanr\n",
    "from util import plot_performance_comparison, print_evaluation, plot_drift_detection_summary, smape\n",
    "import pickle\n",
    "from Detection_Strategies import compute_log_loss_per_sample\n",
    "\n",
    "%load_ext autoreload\n",
    "%autoreload 2\n",
    "\n",
    "pd.set_option(\"display.max_rows\", 120)\n",
    "pd.set_option(\"display.max_columns\", 120)\n",
    "\n",
    "logging.basicConfig(level=logging.INFO, stream=sys.stdout)"
   ]
  },
  {
   "cell_type": "code",
   "execution_count": 477,
   "id": "induced-sleep",
   "metadata": {},
   "outputs": [],
   "source": [
    "# Load all results files\n",
    "all_results = {}\n",
    "\n",
    "key = 'Insects_Abrupt'\n",
    "local = {}\n",
    "filename = '../Experiment_InsectsAbrupt/results_MCDropout_INSECTS-abrupt_balanced_norm.pickle'\n",
    "local['raw'] = pickle.load(open(filename, 'rb'))\n",
    "all_results[key] = local\n",
    "\n",
    "key = 'Insects_Incremental'\n",
    "local = {}\n",
    "filename = '../Experiment_InsectsIncremental/results_MCDropout_INSECTS-incremental_balanced_norm.pickle'\n",
    "local['raw'] = pickle.load(open(filename, 'rb'))\n",
    "all_results[key] = local\n",
    "\n",
    "key = 'Insects_Inc_Abr'\n",
    "local = {}\n",
    "filename = '../Experiment_InsectsIncAbr/results_MCDropout_INS-inc-abr-bal.pickle'\n",
    "local['raw'] = pickle.load(open(filename, 'rb'))\n",
    "all_results[key] = local\n",
    "\n",
    "key = 'Insects_Inc_Reoc'\n",
    "local = {}\n",
    "filename = '../Experiment_InsectsIncReoc/results_MCDropout_INSECTS-incremental_reoccurring.pickle'\n",
    "local['raw'] = pickle.load(open(filename, 'rb'))\n",
    "all_results[key] = local\n",
    "\n",
    "key = 'KDDCUP99'\n",
    "local = {}\n",
    "filename = '../Experiment_KDDCUP99/results_MCDropout_kdd99.pickle'\n",
    "local['raw'] = pickle.load(open(filename, 'rb'))\n",
    "all_results[key] = local\n",
    "\n",
    "\n",
    "key = 'Gas_Sensor'\n",
    "local = {}\n",
    "filename = '../Experiment_GasSensorArray/results_MCDropout_gassensor.pickle'\n",
    "local['raw'] = pickle.load(open(filename, 'rb'))\n",
    "all_results[key] = local\n",
    "\n",
    "key = 'Electricity'\n",
    "local = {}\n",
    "filename = '../Experiment_Electricity/results_MCDropout_elec.pickle'\n",
    "local['raw'] = pickle.load(open(filename, 'rb'))\n",
    "all_results[key] = local\n",
    "\n",
    "key = 'Rialto'\n",
    "local = {}\n",
    "filename = '../Experiment_RialtoBridge/results_MCDropout_rialto.pickle'\n",
    "local['raw'] = pickle.load(open(filename, 'rb'))\n",
    "all_results[key] = local\n",
    "\n",
    "key = 'Syn_Mixed'\n",
    "local = {}\n",
    "filename = '../Syn_Experiment_Mixed_Abrupt/results_MCDropout_mixed.pickle'\n",
    "local['raw'] = pickle.load(open(filename, 'rb'))\n",
    "all_results[key] = local"
   ]
  },
  {
   "cell_type": "code",
   "execution_count": 478,
   "id": "timely-history",
   "metadata": {},
   "outputs": [],
   "source": [
    "def compute_new_metrics(results_dict):    \n",
    "    \n",
    "    for key_data in results_dict.keys():\n",
    "        data_raw = results_dict[key_data]['raw']['raw']\n",
    "        additional_metrics = {}\n",
    "\n",
    "        f1_dict = {}\n",
    "        precision_dict = {}\n",
    "        recall_dict = {}\n",
    "        for key in data_raw.keys():\n",
    "            predictions = data_raw[key]['preds']\n",
    "            true_values = data_raw[key]['tv']\n",
    "            if len(np.unique(predictions)) > 2:\n",
    "                f1_dict[key] = f1_score(true_values, predictions, average='macro')\n",
    "                precision_dict[key] = precision_score(true_values, predictions, average = 'macro')\n",
    "                recall_dict[key] = recall_score(true_values, predictions, average = 'macro')\n",
    "            else:\n",
    "                f1_dict[key] = f1_score(true_values, predictions, average='binary')\n",
    "                precision_dict[key] = precision_score(true_values, predictions, average = 'binary')\n",
    "                recall_dict[key] = recall_score(true_values, predictions, average = 'binary')\n",
    "\n",
    "\n",
    "        additional_metrics['F1'] = f1_dict\n",
    "        additional_metrics['Precision'] = precision_dict\n",
    "        additional_metrics['Recall']= recall_dict\n",
    "        add_metrics_df = pd.DataFrame(additional_metrics)\n",
    "\n",
    "        \n",
    "        original = results_dict[key_data]['raw']['metrics']\n",
    "        original = original.set_index('Alg_run')\n",
    "        #print(original)\n",
    "\n",
    "        result_new_table = pd.concat([original[['type', 'Acc', 'Log-loss', 'MCC', 'AUC']], add_metrics_df, original[['r_spear', 'r_pears',\n",
    "               'detected_drift_numbers', 'retraining_counter', 'Computation_Time',\n",
    "               'Detection']]], axis = 1)\n",
    "\n",
    "        results_dict[key_data]['raw']['metrics'] = result_new_table\n",
    "        updated_result_dict = results_dict\n",
    "        \n",
    "    return updated_result_dict"
   ]
  },
  {
   "cell_type": "markdown",
   "id": "advance-potential",
   "metadata": {},
   "source": [
    "# Overview on Results"
   ]
  },
  {
   "cell_type": "code",
   "execution_count": 1,
   "id": "genuine-audience",
   "metadata": {},
   "outputs": [],
   "source": [
    "all_results = compute_new_metrics(all_results)"
   ]
  },
  {
   "cell_type": "code",
   "execution_count": 480,
   "id": "charitable-maine",
   "metadata": {},
   "outputs": [],
   "source": [
    "for key in all_results.keys():\n",
    "    all_results[key]['summary'] = print_evaluation(all_results[key]['raw'])"
   ]
  },
  {
   "cell_type": "markdown",
   "id": "diagnostic-doubt",
   "metadata": {},
   "source": [
    "#### Metric"
   ]
  },
  {
   "cell_type": "code",
   "execution_count": 481,
   "id": "liquid-invalid",
   "metadata": {},
   "outputs": [
    {
     "data": {
      "text/plain": [
       "Index(['Acc', 'Log-loss', 'MCC', 'AUC', 'F1', 'Precision', 'Recall', 'r_spear',\n",
       "       'r_pears', 'detected_drift_numbers', 'retraining_counter',\n",
       "       'Computation_Time'],\n",
       "      dtype='object')"
      ]
     },
     "execution_count": 481,
     "metadata": {},
     "output_type": "execute_result"
    }
   ],
   "source": [
    "all_results[key]['summary'].keys()"
   ]
  },
  {
   "cell_type": "code",
   "execution_count": 486,
   "id": "opponent-berkeley",
   "metadata": {},
   "outputs": [],
   "source": [
    "metric = 'F1'\n",
    "overview = {}\n",
    "\n",
    "for key in all_results.keys():\n",
    "    overview[key] = all_results[key]['summary'][metric]"
   ]
  },
  {
   "cell_type": "code",
   "execution_count": 487,
   "id": "upper-integral",
   "metadata": {},
   "outputs": [
    {
     "name": "stdout",
     "output_type": "stream",
     "text": [
      "F1\n"
     ]
    },
    {
     "data": {
      "text/html": [
       "<div>\n",
       "<style scoped>\n",
       "    .dataframe tbody tr th:only-of-type {\n",
       "        vertical-align: middle;\n",
       "    }\n",
       "\n",
       "    .dataframe tbody tr th {\n",
       "        vertical-align: top;\n",
       "    }\n",
       "\n",
       "    .dataframe thead th {\n",
       "        text-align: right;\n",
       "    }\n",
       "</style>\n",
       "<table border=\"1\" class=\"dataframe\">\n",
       "  <thead>\n",
       "    <tr style=\"text-align: right;\">\n",
       "      <th>Detection</th>\n",
       "      <th>no_retraining</th>\n",
       "      <th>uninformed</th>\n",
       "      <th>equal_distribution</th>\n",
       "      <th>kswin</th>\n",
       "      <th>adwin_uncertainty</th>\n",
       "      <th>kswin_unlimited</th>\n",
       "      <th>adwin_error</th>\n",
       "    </tr>\n",
       "  </thead>\n",
       "  <tbody>\n",
       "    <tr>\n",
       "      <th>Insects_Abrupt</th>\n",
       "      <td>0.498011</td>\n",
       "      <td>0.514442</td>\n",
       "      <td>0.514076</td>\n",
       "      <td>0.507394</td>\n",
       "      <td>0.564798</td>\n",
       "      <td>0.575213</td>\n",
       "      <td>0.554918</td>\n",
       "    </tr>\n",
       "    <tr>\n",
       "      <th>Insects_Incremental</th>\n",
       "      <td>0.201868</td>\n",
       "      <td>0.323148</td>\n",
       "      <td>0.320995</td>\n",
       "      <td>0.302714</td>\n",
       "      <td>0.353273</td>\n",
       "      <td>0.345026</td>\n",
       "      <td>0.356364</td>\n",
       "    </tr>\n",
       "    <tr>\n",
       "      <th>Insects_Inc_Abr</th>\n",
       "      <td>0.330834</td>\n",
       "      <td>0.519366</td>\n",
       "      <td>0.521839</td>\n",
       "      <td>0.511616</td>\n",
       "      <td>0.567013</td>\n",
       "      <td>0.541641</td>\n",
       "      <td>0.561182</td>\n",
       "    </tr>\n",
       "    <tr>\n",
       "      <th>Insects_Inc_Reoc</th>\n",
       "      <td>0.218893</td>\n",
       "      <td>0.300687</td>\n",
       "      <td>0.302496</td>\n",
       "      <td>0.264760</td>\n",
       "      <td>0.311125</td>\n",
       "      <td>0.322849</td>\n",
       "      <td>0.335725</td>\n",
       "    </tr>\n",
       "    <tr>\n",
       "      <th>KDDCUP99</th>\n",
       "      <td>0.135628</td>\n",
       "      <td>0.188480</td>\n",
       "      <td>0.175719</td>\n",
       "      <td>0.148233</td>\n",
       "      <td>0.258424</td>\n",
       "      <td>0.353561</td>\n",
       "      <td>0.411477</td>\n",
       "    </tr>\n",
       "    <tr>\n",
       "      <th>Gas_Sensor</th>\n",
       "      <td>0.287432</td>\n",
       "      <td>0.533078</td>\n",
       "      <td>0.536789</td>\n",
       "      <td>0.364738</td>\n",
       "      <td>0.545573</td>\n",
       "      <td>0.504215</td>\n",
       "      <td>0.536631</td>\n",
       "    </tr>\n",
       "    <tr>\n",
       "      <th>Electricity</th>\n",
       "      <td>0.076548</td>\n",
       "      <td>0.640998</td>\n",
       "      <td>0.641147</td>\n",
       "      <td>0.528967</td>\n",
       "      <td>0.671693</td>\n",
       "      <td>0.711878</td>\n",
       "      <td>0.694710</td>\n",
       "    </tr>\n",
       "    <tr>\n",
       "      <th>Rialto</th>\n",
       "      <td>0.579987</td>\n",
       "      <td>0.601043</td>\n",
       "      <td>0.603999</td>\n",
       "      <td>0.622112</td>\n",
       "      <td>0.625048</td>\n",
       "      <td>0.625070</td>\n",
       "      <td>0.639526</td>\n",
       "    </tr>\n",
       "    <tr>\n",
       "      <th>Syn_Mixed</th>\n",
       "      <td>0.954863</td>\n",
       "      <td>0.972010</td>\n",
       "      <td>0.962360</td>\n",
       "      <td>0.980053</td>\n",
       "      <td>0.981798</td>\n",
       "      <td>0.981825</td>\n",
       "      <td>0.982907</td>\n",
       "    </tr>\n",
       "  </tbody>\n",
       "</table>\n",
       "</div>"
      ],
      "text/plain": [
       "Detection            no_retraining  uninformed  equal_distribution     kswin  \\\n",
       "Insects_Abrupt            0.498011    0.514442            0.514076  0.507394   \n",
       "Insects_Incremental       0.201868    0.323148            0.320995  0.302714   \n",
       "Insects_Inc_Abr           0.330834    0.519366            0.521839  0.511616   \n",
       "Insects_Inc_Reoc          0.218893    0.300687            0.302496  0.264760   \n",
       "KDDCUP99                  0.135628    0.188480            0.175719  0.148233   \n",
       "Gas_Sensor                0.287432    0.533078            0.536789  0.364738   \n",
       "Electricity               0.076548    0.640998            0.641147  0.528967   \n",
       "Rialto                    0.579987    0.601043            0.603999  0.622112   \n",
       "Syn_Mixed                 0.954863    0.972010            0.962360  0.980053   \n",
       "\n",
       "Detection            adwin_uncertainty  kswin_unlimited  adwin_error  \n",
       "Insects_Abrupt                0.564798         0.575213     0.554918  \n",
       "Insects_Incremental           0.353273         0.345026     0.356364  \n",
       "Insects_Inc_Abr               0.567013         0.541641     0.561182  \n",
       "Insects_Inc_Reoc              0.311125         0.322849     0.335725  \n",
       "KDDCUP99                      0.258424         0.353561     0.411477  \n",
       "Gas_Sensor                    0.545573         0.504215     0.536631  \n",
       "Electricity                   0.671693         0.711878     0.694710  \n",
       "Rialto                        0.625048         0.625070     0.639526  \n",
       "Syn_Mixed                     0.981798         0.981825     0.982907  "
      ]
     },
     "execution_count": 487,
     "metadata": {},
     "output_type": "execute_result"
    }
   ],
   "source": [
    "print(metric)\n",
    "results = pd.DataFrame(overview).T\n",
    "ordered_columnns = ['no_retraining', 'uninformed', 'equal_distribution', 'kswin', 'adwin_uncertainty', 'kswin_unlimited',  'adwin_error']\n",
    "results[ordered_columnns]"
   ]
  },
  {
   "cell_type": "markdown",
   "id": "median-indication",
   "metadata": {},
   "source": [
    "#### Number retraining"
   ]
  },
  {
   "cell_type": "code",
   "execution_count": 484,
   "id": "exceptional-inclusion",
   "metadata": {},
   "outputs": [],
   "source": [
    "metric = 'retraining_counter'\n",
    "overview = {}\n",
    "\n",
    "for key in all_results.keys():\n",
    "    overview[key] = all_results[key]['summary'][metric]"
   ]
  },
  {
   "cell_type": "code",
   "execution_count": 485,
   "id": "atlantic-impact",
   "metadata": {},
   "outputs": [
    {
     "name": "stdout",
     "output_type": "stream",
     "text": [
      "retraining_counter\n"
     ]
    },
    {
     "data": {
      "text/html": [
       "<div>\n",
       "<style scoped>\n",
       "    .dataframe tbody tr th:only-of-type {\n",
       "        vertical-align: middle;\n",
       "    }\n",
       "\n",
       "    .dataframe tbody tr th {\n",
       "        vertical-align: top;\n",
       "    }\n",
       "\n",
       "    .dataframe thead th {\n",
       "        text-align: right;\n",
       "    }\n",
       "</style>\n",
       "<table border=\"1\" class=\"dataframe\">\n",
       "  <thead>\n",
       "    <tr style=\"text-align: right;\">\n",
       "      <th>Detection</th>\n",
       "      <th>no_retraining</th>\n",
       "      <th>uninformed</th>\n",
       "      <th>equal_distribution</th>\n",
       "      <th>kswin</th>\n",
       "      <th>adwin_uncertainty</th>\n",
       "      <th>kswin_unlimited</th>\n",
       "      <th>adwin_error</th>\n",
       "    </tr>\n",
       "  </thead>\n",
       "  <tbody>\n",
       "    <tr>\n",
       "      <th>Insects_Abrupt</th>\n",
       "      <td>0</td>\n",
       "      <td>9</td>\n",
       "      <td>9</td>\n",
       "      <td>9</td>\n",
       "      <td>9</td>\n",
       "      <td>192</td>\n",
       "      <td>9</td>\n",
       "    </tr>\n",
       "    <tr>\n",
       "      <th>Insects_Incremental</th>\n",
       "      <td>0</td>\n",
       "      <td>4</td>\n",
       "      <td>4</td>\n",
       "      <td>4</td>\n",
       "      <td>4</td>\n",
       "      <td>27</td>\n",
       "      <td>3</td>\n",
       "    </tr>\n",
       "    <tr>\n",
       "      <th>Insects_Inc_Abr</th>\n",
       "      <td>0</td>\n",
       "      <td>22</td>\n",
       "      <td>22</td>\n",
       "      <td>22</td>\n",
       "      <td>22</td>\n",
       "      <td>107</td>\n",
       "      <td>23</td>\n",
       "    </tr>\n",
       "    <tr>\n",
       "      <th>Insects_Inc_Reoc</th>\n",
       "      <td>0</td>\n",
       "      <td>10</td>\n",
       "      <td>10</td>\n",
       "      <td>10</td>\n",
       "      <td>10</td>\n",
       "      <td>149</td>\n",
       "      <td>13</td>\n",
       "    </tr>\n",
       "    <tr>\n",
       "      <th>KDDCUP99</th>\n",
       "      <td>0</td>\n",
       "      <td>20</td>\n",
       "      <td>20</td>\n",
       "      <td>20</td>\n",
       "      <td>20</td>\n",
       "      <td>345</td>\n",
       "      <td>61</td>\n",
       "    </tr>\n",
       "    <tr>\n",
       "      <th>Gas_Sensor</th>\n",
       "      <td>0</td>\n",
       "      <td>39</td>\n",
       "      <td>39</td>\n",
       "      <td>39</td>\n",
       "      <td>39</td>\n",
       "      <td>149</td>\n",
       "      <td>49</td>\n",
       "    </tr>\n",
       "    <tr>\n",
       "      <th>Electricity</th>\n",
       "      <td>0</td>\n",
       "      <td>13</td>\n",
       "      <td>13</td>\n",
       "      <td>13</td>\n",
       "      <td>13</td>\n",
       "      <td>269</td>\n",
       "      <td>45</td>\n",
       "    </tr>\n",
       "    <tr>\n",
       "      <th>Rialto</th>\n",
       "      <td>0</td>\n",
       "      <td>14</td>\n",
       "      <td>14</td>\n",
       "      <td>14</td>\n",
       "      <td>14</td>\n",
       "      <td>17</td>\n",
       "      <td>116</td>\n",
       "    </tr>\n",
       "    <tr>\n",
       "      <th>Syn_Mixed</th>\n",
       "      <td>0</td>\n",
       "      <td>3</td>\n",
       "      <td>3</td>\n",
       "      <td>3</td>\n",
       "      <td>3</td>\n",
       "      <td>14</td>\n",
       "      <td>3</td>\n",
       "    </tr>\n",
       "  </tbody>\n",
       "</table>\n",
       "</div>"
      ],
      "text/plain": [
       "Detection            no_retraining  uninformed  equal_distribution  kswin  \\\n",
       "Insects_Abrupt                   0           9                   9      9   \n",
       "Insects_Incremental              0           4                   4      4   \n",
       "Insects_Inc_Abr                  0          22                  22     22   \n",
       "Insects_Inc_Reoc                 0          10                  10     10   \n",
       "KDDCUP99                         0          20                  20     20   \n",
       "Gas_Sensor                       0          39                  39     39   \n",
       "Electricity                      0          13                  13     13   \n",
       "Rialto                           0          14                  14     14   \n",
       "Syn_Mixed                        0           3                   3      3   \n",
       "\n",
       "Detection            adwin_uncertainty  kswin_unlimited  adwin_error  \n",
       "Insects_Abrupt                       9              192            9  \n",
       "Insects_Incremental                  4               27            3  \n",
       "Insects_Inc_Abr                     22              107           23  \n",
       "Insects_Inc_Reoc                    10              149           13  \n",
       "KDDCUP99                            20              345           61  \n",
       "Gas_Sensor                          39              149           49  \n",
       "Electricity                         13              269           45  \n",
       "Rialto                              14               17          116  \n",
       "Syn_Mixed                            3               14            3  "
      ]
     },
     "execution_count": 485,
     "metadata": {},
     "output_type": "execute_result"
    }
   ],
   "source": [
    "print(metric)\n",
    "results = pd.DataFrame(overview).T\n",
    "ordered_columnns = ['no_retraining', 'uninformed', 'equal_distribution', 'kswin', 'adwin_uncertainty', 'kswin_unlimited',  'adwin_error']\n",
    "results[ordered_columnns]"
   ]
  },
  {
   "cell_type": "markdown",
   "id": "signed-knitting",
   "metadata": {},
   "source": [
    "# Details"
   ]
  },
  {
   "cell_type": "code",
   "execution_count": 421,
   "id": "running-daniel",
   "metadata": {},
   "outputs": [
    {
     "data": {
      "text/html": [
       "<div>\n",
       "<style scoped>\n",
       "    .dataframe tbody tr th:only-of-type {\n",
       "        vertical-align: middle;\n",
       "    }\n",
       "\n",
       "    .dataframe tbody tr th {\n",
       "        vertical-align: top;\n",
       "    }\n",
       "\n",
       "    .dataframe thead th {\n",
       "        text-align: right;\n",
       "    }\n",
       "</style>\n",
       "<table border=\"1\" class=\"dataframe\">\n",
       "  <thead>\n",
       "    <tr style=\"text-align: right;\">\n",
       "      <th></th>\n",
       "      <th>Acc</th>\n",
       "      <th>Log-loss</th>\n",
       "      <th>MCC</th>\n",
       "      <th>AUC</th>\n",
       "      <th>F1</th>\n",
       "      <th>Precision</th>\n",
       "      <th>Recall</th>\n",
       "      <th>r_spear</th>\n",
       "      <th>r_pears</th>\n",
       "      <th>detected_drift_numbers</th>\n",
       "      <th>retraining_counter</th>\n",
       "      <th>Computation_Time</th>\n",
       "    </tr>\n",
       "    <tr>\n",
       "      <th>Detection</th>\n",
       "      <th></th>\n",
       "      <th></th>\n",
       "      <th></th>\n",
       "      <th></th>\n",
       "      <th></th>\n",
       "      <th></th>\n",
       "      <th></th>\n",
       "      <th></th>\n",
       "      <th></th>\n",
       "      <th></th>\n",
       "      <th></th>\n",
       "      <th></th>\n",
       "    </tr>\n",
       "  </thead>\n",
       "  <tbody>\n",
       "    <tr>\n",
       "      <th>adwin_error</th>\n",
       "      <td>0.544655</td>\n",
       "      <td>1.216806</td>\n",
       "      <td>0.467901</td>\n",
       "      <td>0.883752</td>\n",
       "      <td>0.534742</td>\n",
       "      <td>0.574727</td>\n",
       "      <td>0.565193</td>\n",
       "      <td>0.222833</td>\n",
       "      <td>0.229292</td>\n",
       "      <td>11</td>\n",
       "      <td>11</td>\n",
       "      <td>286.668721</td>\n",
       "    </tr>\n",
       "    <tr>\n",
       "      <th>adwin_uncertainty</th>\n",
       "      <td>0.532657</td>\n",
       "      <td>1.321983</td>\n",
       "      <td>0.458055</td>\n",
       "      <td>0.872769</td>\n",
       "      <td>0.513790</td>\n",
       "      <td>0.598059</td>\n",
       "      <td>0.557367</td>\n",
       "      <td>0.207364</td>\n",
       "      <td>0.207695</td>\n",
       "      <td>9</td>\n",
       "      <td>9</td>\n",
       "      <td>256.549866</td>\n",
       "    </tr>\n",
       "    <tr>\n",
       "      <th>equal_distribution</th>\n",
       "      <td>0.490094</td>\n",
       "      <td>1.451646</td>\n",
       "      <td>0.406562</td>\n",
       "      <td>0.857818</td>\n",
       "      <td>0.466860</td>\n",
       "      <td>0.517063</td>\n",
       "      <td>0.515849</td>\n",
       "      <td>0.179232</td>\n",
       "      <td>0.185854</td>\n",
       "      <td>0</td>\n",
       "      <td>9</td>\n",
       "      <td>229.211659</td>\n",
       "    </tr>\n",
       "    <tr>\n",
       "      <th>kswin</th>\n",
       "      <td>0.534415</td>\n",
       "      <td>1.416527</td>\n",
       "      <td>0.453449</td>\n",
       "      <td>0.868725</td>\n",
       "      <td>0.508571</td>\n",
       "      <td>0.545608</td>\n",
       "      <td>0.545869</td>\n",
       "      <td>0.249175</td>\n",
       "      <td>0.250827</td>\n",
       "      <td>9</td>\n",
       "      <td>9</td>\n",
       "      <td>549.930748</td>\n",
       "    </tr>\n",
       "    <tr>\n",
       "      <th>kswin_unlimited</th>\n",
       "      <td>0.553137</td>\n",
       "      <td>1.224288</td>\n",
       "      <td>0.477312</td>\n",
       "      <td>0.884643</td>\n",
       "      <td>0.525318</td>\n",
       "      <td>0.581427</td>\n",
       "      <td>0.564822</td>\n",
       "      <td>0.257597</td>\n",
       "      <td>0.261753</td>\n",
       "      <td>200</td>\n",
       "      <td>177</td>\n",
       "      <td>3684.023950</td>\n",
       "    </tr>\n",
       "    <tr>\n",
       "      <th>no_retraining</th>\n",
       "      <td>0.511756</td>\n",
       "      <td>1.730671</td>\n",
       "      <td>0.428399</td>\n",
       "      <td>0.849386</td>\n",
       "      <td>0.480371</td>\n",
       "      <td>0.527102</td>\n",
       "      <td>0.525906</td>\n",
       "      <td>0.219103</td>\n",
       "      <td>0.219626</td>\n",
       "      <td>0</td>\n",
       "      <td>0</td>\n",
       "      <td>24.597907</td>\n",
       "    </tr>\n",
       "    <tr>\n",
       "      <th>uninformed</th>\n",
       "      <td>0.507573</td>\n",
       "      <td>1.412815</td>\n",
       "      <td>0.425756</td>\n",
       "      <td>0.862984</td>\n",
       "      <td>0.483619</td>\n",
       "      <td>0.543813</td>\n",
       "      <td>0.527809</td>\n",
       "      <td>0.204035</td>\n",
       "      <td>0.206801</td>\n",
       "      <td>0</td>\n",
       "      <td>9</td>\n",
       "      <td>252.572036</td>\n",
       "    </tr>\n",
       "  </tbody>\n",
       "</table>\n",
       "</div>"
      ],
      "text/plain": [
       "                         Acc  Log-loss       MCC       AUC        F1  \\\n",
       "Detection                                                              \n",
       "adwin_error         0.544655  1.216806  0.467901  0.883752  0.534742   \n",
       "adwin_uncertainty   0.532657  1.321983  0.458055  0.872769  0.513790   \n",
       "equal_distribution  0.490094  1.451646  0.406562  0.857818  0.466860   \n",
       "kswin               0.534415  1.416527  0.453449  0.868725  0.508571   \n",
       "kswin_unlimited     0.553137  1.224288  0.477312  0.884643  0.525318   \n",
       "no_retraining       0.511756  1.730671  0.428399  0.849386  0.480371   \n",
       "uninformed          0.507573  1.412815  0.425756  0.862984  0.483619   \n",
       "\n",
       "                    Precision    Recall   r_spear   r_pears  \\\n",
       "Detection                                                     \n",
       "adwin_error          0.574727  0.565193  0.222833  0.229292   \n",
       "adwin_uncertainty    0.598059  0.557367  0.207364  0.207695   \n",
       "equal_distribution   0.517063  0.515849  0.179232  0.185854   \n",
       "kswin                0.545608  0.545869  0.249175  0.250827   \n",
       "kswin_unlimited      0.581427  0.564822  0.257597  0.261753   \n",
       "no_retraining        0.527102  0.525906  0.219103  0.219626   \n",
       "uninformed           0.543813  0.527809  0.204035  0.206801   \n",
       "\n",
       "                    detected_drift_numbers  retraining_counter  \\\n",
       "Detection                                                        \n",
       "adwin_error                             11                  11   \n",
       "adwin_uncertainty                        9                   9   \n",
       "equal_distribution                       0                   9   \n",
       "kswin                                    9                   9   \n",
       "kswin_unlimited                        200                 177   \n",
       "no_retraining                            0                   0   \n",
       "uninformed                               0                   9   \n",
       "\n",
       "                    Computation_Time  \n",
       "Detection                             \n",
       "adwin_error               286.668721  \n",
       "adwin_uncertainty         256.549866  \n",
       "equal_distribution        229.211659  \n",
       "kswin                     549.930748  \n",
       "kswin_unlimited          3684.023950  \n",
       "no_retraining              24.597907  \n",
       "uninformed                252.572036  "
      ]
     },
     "execution_count": 421,
     "metadata": {},
     "output_type": "execute_result"
    }
   ],
   "source": [
    "all_results['Insects_Abrupt']['summary']"
   ]
  },
  {
   "cell_type": "markdown",
   "id": "geographic-native",
   "metadata": {},
   "source": [
    "# Correlation"
   ]
  },
  {
   "cell_type": "code",
   "execution_count": 422,
   "id": "corresponding-veteran",
   "metadata": {},
   "outputs": [
    {
     "name": "stdout",
     "output_type": "stream",
     "text": [
      "Insects_Abrupt :  0.20736436111162898\n",
      "Insects_Incremental :  0.26105908689723295\n",
      "Insects_Inc_Abr :  0.37969978183531444\n",
      "Insects_Inc_Reoc :  0.09868010968063647\n",
      "KDDCUP99 :  0.16899796848105358\n",
      "Gas_Sensor :  0.1855130877750846\n",
      "Electricity :  0.28596470624926645\n",
      "Rialto :  0.4854855603224345\n",
      "Syn_Mixed :  0.22292729317559748\n"
     ]
    }
   ],
   "source": [
    "for data_set in all_results.keys():\n",
    "    print(data_set,': ' ,all_results[data_set]['raw']['metrics'].loc['adwin_uncertainty 0', 'r_spear'])"
   ]
  },
  {
   "cell_type": "code",
   "execution_count": 323,
   "id": "wrapped-arena",
   "metadata": {},
   "outputs": [
    {
     "name": "stdout",
     "output_type": "stream",
     "text": [
      "Insects_Abrupt: 0.34955994274303864\n",
      "Insects_Incremental: 0.39780368692532553\n",
      "Insects_Inc_Abr: 0.5745367323034233\n",
      "Insects_Inc_Reoc: -0.037309315062560335\n",
      "KDDCUP99: 0.9485748463008611\n",
      "Gas_Sensor: 0.34744614749660646\n",
      "Electricity: -0.1778053186909837\n",
      "Rialto: 0.6989906203087667\n",
      "Syn_Mixed: -0.8658105591219611\n"
     ]
    }
   ],
   "source": [
    "# compute with logloss\n",
    "for data_set in all_results.keys():\n",
    "    data_raw = all_results[data_set]['raw']['raw']['adwin_uncertainty 0']\n",
    "\n",
    "    true_values = data_raw['tv']\n",
    "    y_pred_proba = data_raw['probs']\n",
    "    uncertainties = data_raw['uncertainties']\n",
    "    errors = data_raw['errors']\n",
    "    y_pred = data_raw['preds']\n",
    "    if data_set == 'KDDCUP99':\n",
    "        ll_sample = compute_log_loss_per_sample(true_values, y_pred_proba, 1e-5, labels = np.arange(23))\n",
    "    else:\n",
    "        ll_sample = compute_log_loss_per_sample(true_values, y_pred_proba, 1e-5)\n",
    "    \n",
    "    print('{}: {}'.format(data_set, spearmanr(uncertainties, ll_sample)[0]))"
   ]
  },
  {
   "cell_type": "markdown",
   "id": "revolutionary-banner",
   "metadata": {},
   "source": [
    "# Compute other metrics"
   ]
  },
  {
   "cell_type": "code",
   "execution_count": 253,
   "id": "terminal-carnival",
   "metadata": {},
   "outputs": [
    {
     "data": {
      "text/plain": [
       "dict_keys(['adwin_uncertainty 0', 'uninformed_1', 'uninformed_2', 'uninformed_3', 'uninformed_4', 'uninformed_5', 'no_retraining', 'equal_distribution', 'adwin_error', 'kswin', 'kswin_unlimited'])"
      ]
     },
     "execution_count": 253,
     "metadata": {},
     "output_type": "execute_result"
    }
   ],
   "source": [
    "all_results['Insects_Abrupt']['raw']['raw'].keys()"
   ]
  },
  {
   "cell_type": "code",
   "execution_count": 286,
   "id": "owned-capability",
   "metadata": {},
   "outputs": [],
   "source": [
    "elec = all_results['Electricity']['raw']['raw']['adwin_uncertainty 0']"
   ]
  },
  {
   "cell_type": "code",
   "execution_count": 287,
   "id": "varying-boston",
   "metadata": {},
   "outputs": [
    {
     "data": {
      "text/plain": [
       "dict_keys(['uncertainties', 'tv', 'tv_cat', 'preds', 'probs', 'errors'])"
      ]
     },
     "execution_count": 287,
     "metadata": {},
     "output_type": "execute_result"
    }
   ],
   "source": [
    "elec.keys()"
   ]
  },
  {
   "cell_type": "code",
   "execution_count": 288,
   "id": "hazardous-jefferson",
   "metadata": {},
   "outputs": [],
   "source": [
    "true_values = elec['tv']\n",
    "y_pred_proba = elec['probs']\n",
    "uncertainties = elec['uncertainties']\n",
    "errors = elec['errors']\n",
    "y_pred = elec['preds']"
   ]
  },
  {
   "cell_type": "code",
   "execution_count": 289,
   "id": "oriental-methodology",
   "metadata": {},
   "outputs": [
    {
     "data": {
      "text/plain": [
       "array([[0.9820807 , 0.01791933],\n",
       "       [0.99082875, 0.00917125],\n",
       "       [0.99154556, 0.0084544 ],\n",
       "       ...,\n",
       "       [0.9540138 , 0.04598628],\n",
       "       [0.4563991 , 0.543601  ],\n",
       "       [0.86520034, 0.13479948]], dtype=float32)"
      ]
     },
     "execution_count": 289,
     "metadata": {},
     "output_type": "execute_result"
    }
   ],
   "source": [
    "y_pred_proba"
   ]
  },
  {
   "cell_type": "code",
   "execution_count": 304,
   "id": "respected-oxide",
   "metadata": {},
   "outputs": [],
   "source": [
    "lb = LabelBinarizer()\n",
    "\n",
    "lb.fit(true_values)\n",
    "\n",
    "transformed_labels = lb.transform(true_values)"
   ]
  },
  {
   "cell_type": "code",
   "execution_count": 305,
   "id": "indian-consequence",
   "metadata": {},
   "outputs": [],
   "source": [
    "errors = (transformed_labels - y_pred_proba)**2"
   ]
  },
  {
   "cell_type": "code",
   "execution_count": 306,
   "id": "valid-valentine",
   "metadata": {},
   "outputs": [
    {
     "data": {
      "text/plain": [
       "0    21980\n",
       "1    16537\n",
       "dtype: int64"
      ]
     },
     "execution_count": 306,
     "metadata": {},
     "output_type": "execute_result"
    }
   ],
   "source": [
    "pd.Series(true_values).value_counts()"
   ]
  },
  {
   "cell_type": "code",
   "execution_count": 308,
   "id": "working-bidding",
   "metadata": {},
   "outputs": [
    {
     "data": {
      "text/plain": [
       "array([[9.64482497e-01, 3.21102452e-04],\n",
       "       [9.81741617e-01, 8.41119170e-05],\n",
       "       [9.83162594e-01, 7.14768183e-05],\n",
       "       ...,\n",
       "       [9.10142377e-01, 2.11473759e-03],\n",
       "       [2.95501924e-01, 2.08300069e-01],\n",
       "       [7.48571630e-01, 1.81708999e-02]])"
      ]
     },
     "execution_count": 308,
     "metadata": {},
     "output_type": "execute_result"
    }
   ],
   "source": [
    "errors"
   ]
  },
  {
   "cell_type": "code",
   "execution_count": 309,
   "id": "acoustic-equipment",
   "metadata": {},
   "outputs": [
    {
     "data": {
      "text/plain": [
       "array([0, 0, 0, ..., 0, 1, 0])"
      ]
     },
     "execution_count": 309,
     "metadata": {},
     "output_type": "execute_result"
    }
   ],
   "source": [
    "true_values"
   ]
  },
  {
   "cell_type": "code",
   "execution_count": 310,
   "id": "musical-satin",
   "metadata": {},
   "outputs": [
    {
     "data": {
      "text/plain": [
       "array([[0.9820807 , 0.01791933],\n",
       "       [0.99082875, 0.00917125],\n",
       "       [0.99154556, 0.0084544 ],\n",
       "       ...,\n",
       "       [0.9540138 , 0.04598628],\n",
       "       [0.4563991 , 0.543601  ],\n",
       "       [0.86520034, 0.13479948]], dtype=float32)"
      ]
     },
     "execution_count": 310,
     "metadata": {},
     "output_type": "execute_result"
    }
   ],
   "source": [
    "y_pred_proba"
   ]
  },
  {
   "cell_type": "code",
   "execution_count": 292,
   "id": "backed-carrier",
   "metadata": {},
   "outputs": [],
   "source": [
    "#errors = errors.sum(axis = 1)"
   ]
  },
  {
   "cell_type": "code",
   "execution_count": 293,
   "id": "heated-prophet",
   "metadata": {},
   "outputs": [],
   "source": [
    "#spearmanr(uncertainties, errors)"
   ]
  },
  {
   "cell_type": "code",
   "execution_count": 294,
   "id": "related-difficulty",
   "metadata": {},
   "outputs": [
    {
     "name": "stdout",
     "output_type": "stream",
     "text": [
      "-0.6663898653565106\n",
      "0.6663897264243004\n"
     ]
    }
   ],
   "source": [
    "for i in range(errors.shape[1]):\n",
    "    print(spearmanr(uncertainties, errors[:,i])[0])"
   ]
  },
  {
   "cell_type": "markdown",
   "id": "corrected-anderson",
   "metadata": {},
   "source": [
    "### Log-loss"
   ]
  },
  {
   "cell_type": "code",
   "execution_count": 295,
   "id": "distinct-seminar",
   "metadata": {},
   "outputs": [],
   "source": [
    "ll_sample = compute_log_loss_per_sample(true_values, y_pred_proba, eps = 1e-3)"
   ]
  },
  {
   "cell_type": "code",
   "execution_count": 296,
   "id": "bound-wrist",
   "metadata": {},
   "outputs": [
    {
     "data": {
      "image/png": "[encoded data removed]",
      "text/plain": [
       "<Figure size 432x288 with 1 Axes>"
      ]
     },
     "metadata": {
      "needs_background": "light"
     },
     "output_type": "display_data"
    }
   ],
   "source": [
    "_ = plt.hist(ll_sample)"
   ]
  },
  {
   "cell_type": "code",
   "execution_count": 297,
   "id": "bearing-restoration",
   "metadata": {},
   "outputs": [
    {
     "data": {
      "text/plain": [
       "-0.17770833105085976"
      ]
     },
     "execution_count": 297,
     "metadata": {},
     "output_type": "execute_result"
    }
   ],
   "source": [
    "spearmanr(uncertainties, ll_sample)[0]"
   ]
  },
  {
   "cell_type": "code",
   "execution_count": 299,
   "id": "commercial-straight",
   "metadata": {},
   "outputs": [
    {
     "data": {
      "image/png": "[encoded data removed]",
      "text/plain": [
       "<Figure size 432x288 with 1 Axes>"
      ]
     },
     "metadata": {
      "needs_background": "light"
     },
     "output_type": "display_data"
    }
   ],
   "source": [
    "_ = plt.hist(uncertainties)"
   ]
  },
  {
   "cell_type": "code",
   "execution_count": 298,
   "id": "acute-wichita",
   "metadata": {},
   "outputs": [
    {
     "data": {
      "text/plain": [
       "<matplotlib.collections.PathCollection at 0x7fe65b75f250>"
      ]
     },
     "execution_count": 298,
     "metadata": {},
     "output_type": "execute_result"
    },
    {
     "data": {
      "image/png": "[encoded data removed]",
      "text/plain": [
       "<Figure size 432x288 with 1 Axes>"
      ]
     },
     "metadata": {
      "needs_background": "light"
     },
     "output_type": "display_data"
    }
   ],
   "source": [
    "plt.scatter(uncertainties, ll_sample)"
   ]
  },
  {
   "cell_type": "code",
   "execution_count": 220,
   "id": "eleven-judgment",
   "metadata": {},
   "outputs": [
    {
     "data": {
      "text/plain": [
       "array([[ 1.        , -0.18249195],\n",
       "       [-0.18249195,  1.        ]])"
      ]
     },
     "execution_count": 220,
     "metadata": {},
     "output_type": "execute_result"
    }
   ],
   "source": [
    "np.corrcoef(uncertainties, ll_sample)"
   ]
  },
  {
   "cell_type": "markdown",
   "id": "bibliographic-veteran",
   "metadata": {},
   "source": [
    "### Brier score"
   ]
  },
  {
   "cell_type": "code",
   "execution_count": 221,
   "id": "latter-eleven",
   "metadata": {},
   "outputs": [],
   "source": [
    "def brier_multi(targets, probs):\n",
    "    return np.mean(np.sum((probs - targets)**2, axis=1))\n",
    "\n",
    "def brier_multi_single(targets, probs):\n",
    "    return np.sum((probs - targets)**2, axis=1)"
   ]
  },
  {
   "cell_type": "code",
   "execution_count": 222,
   "id": "signed-update",
   "metadata": {},
   "outputs": [],
   "source": [
    "lb = LabelBinarizer()\n",
    "tv_cat = lb.fit_transform(true_values)"
   ]
  },
  {
   "cell_type": "code",
   "execution_count": 223,
   "id": "organized-texas",
   "metadata": {},
   "outputs": [],
   "source": [
    "brier_instace = brier_multi_single(tv_cat, y_pred_proba)"
   ]
  },
  {
   "cell_type": "code",
   "execution_count": 224,
   "id": "informational-bumper",
   "metadata": {},
   "outputs": [
    {
     "data": {
      "text/plain": [
       "<matplotlib.collections.PathCollection at 0x7fe6260cf490>"
      ]
     },
     "execution_count": 224,
     "metadata": {},
     "output_type": "execute_result"
    },
    {
     "data": {
      "image/png": "[encoded data removed]",
      "text/plain": [
       "<Figure size 432x288 with 1 Axes>"
      ]
     },
     "metadata": {
      "needs_background": "light"
     },
     "output_type": "display_data"
    }
   ],
   "source": [
    "plt.scatter(uncertainties, brier_instace)"
   ]
  },
  {
   "cell_type": "code",
   "execution_count": 225,
   "id": "spanish-ridge",
   "metadata": {},
   "outputs": [
    {
     "data": {
      "text/plain": [
       "-0.20660522048232655"
      ]
     },
     "execution_count": 225,
     "metadata": {},
     "output_type": "execute_result"
    }
   ],
   "source": [
    "spearmanr(uncertainties, brier_instace)[0]"
   ]
  },
  {
   "cell_type": "markdown",
   "id": "fewer-assurance",
   "metadata": {},
   "source": [
    "# Entropy bins"
   ]
  },
  {
   "cell_type": "code",
   "execution_count": 148,
   "id": "dutch-vision",
   "metadata": {},
   "outputs": [],
   "source": [
    "def metric_per_entropy_bin(number_bins, uncertainties, true_values, pred, pred_proba, metric):\n",
    "\n",
    "    uncertainties = pd.Series(np.hstack(uncertainties))\n",
    "    entropy_bins = pd.qcut(pd.Series(uncertainties), number_bins, labels=list(range(number_bins)))\n",
    "    \n",
    "    metrics_bin = []\n",
    "    lb = LabelBinarizer()\n",
    "    true_values_cat = lb.fit_transform(true_values)\n",
    "    \n",
    "    for i in range(number_bins):\n",
    "        sel_index = entropy_bins[entropy_bins == i].index\n",
    "        sel_true_values_cat = true_values_cat[sel_index, :]\n",
    "        sel_true_values = true_values[sel_index]\n",
    "        sel_predictions = pred[sel_index]\n",
    "        sel_probas = pred_proba[sel_index, :]\n",
    "        \n",
    "        if metric == 'accuracy':\n",
    "            metrics_bin.append(accuracy_score(sel_true_values, sel_predictions))\n",
    "            \n",
    "        if metric == 'log_loss':\n",
    "            metrics_bin.append(log_loss(sel_true_values_cat, sel_probas))\n",
    "            \n",
    "        if metric == 'auc':\n",
    "            metrics_bin.append(roc_auc_score(sel_true_values_cat, sel_probas, average='weighted', multi_class='ovo'))\n",
    "            \n",
    "        if metric == 'mcc':\n",
    "            metrics_bin.append(matthews_corrcoef(sel_true_values, sel_predictions))\n",
    "            \n",
    "    return metrics_bin\n",
    "    "
   ]
  },
  {
   "cell_type": "code",
   "execution_count": 149,
   "id": "surprised-supervisor",
   "metadata": {},
   "outputs": [
    {
     "data": {
      "text/plain": [
       "[0.3791734078540962,\n",
       " 0.39138108545374317,\n",
       " 0.3722606265627298,\n",
       " 0.3512281217826151,\n",
       " 0.3351963524047654,\n",
       " 0.3112680200058841,\n",
       " 0.310339755846448,\n",
       " 0.29622003235769967,\n",
       " 0.2734225621414914,\n",
       " 0.23429916164141787]"
      ]
     },
     "execution_count": 149,
     "metadata": {},
     "output_type": "execute_result"
    }
   ],
   "source": [
    "metric_per_entropy_bin(10, uncertainties, true_values, y_pred, y_pred_proba, 'accuracy')"
   ]
  },
  {
   "cell_type": "markdown",
   "id": "compressed-basis",
   "metadata": {},
   "source": [
    "#### Accuracy"
   ]
  },
  {
   "cell_type": "code",
   "execution_count": 338,
   "id": "bulgarian-designer",
   "metadata": {},
   "outputs": [],
   "source": [
    "acc_per_decile = {}\n",
    "number_bins = 10\n",
    "for data_key in all_results.keys():\n",
    "    data_raw = all_results[data_key]['raw']['raw']['adwin_uncertainty 0']\n",
    "\n",
    "    true_values = data_raw['tv']\n",
    "    y_pred_proba = data_raw['probs']\n",
    "    uncertainties = data_raw['uncertainties']\n",
    "    y_pred = data_raw['preds']\n",
    "\n",
    "    results = metric_per_entropy_bin(number_bins, uncertainties, true_values, y_pred, y_pred_proba, 'accuracy')\n",
    "    acc_per_decile[data_key] = results"
   ]
  },
  {
   "cell_type": "code",
   "execution_count": 341,
   "id": "helpful-royal",
   "metadata": {},
   "outputs": [],
   "source": [
    "selection = ['Electricity', 'Gas_Sensor', 'Insects_Abrupt', 'Insects_Incremental', 'Insects_Inc_Abr', \n",
    "             'Insects_Inc_Reoc', 'Rialto']"
   ]
  },
  {
   "cell_type": "code",
   "execution_count": 342,
   "id": "declared-deviation",
   "metadata": {},
   "outputs": [
    {
     "data": {
      "image/png": "[encoded data removed]",
      "text/plain": [
       "<Figure size 576x360 with 1 Axes>"
      ]
     },
     "metadata": {
      "needs_background": "light"
     },
     "output_type": "display_data"
    }
   ],
   "source": [
    "x = np.linspace(1,10,number_bins)\n",
    "fig, ax1 = plt.subplots(figsize = (8,5))\n",
    "for key in selection:\n",
    "    ax1.plot(x, acc_per_decile[key], marker='o', label = key)\n",
    "\n",
    "ax1.set_ylabel('Accuracy')\n",
    "ax1.set_xlabel('Entropy (Deciles)')\n",
    "ax1.set_ylim([0.1,1])\n",
    "ax1.grid(True, ls = '--')\n",
    "ax1.legend()\n",
    "ax1.set_xticks(x)\n",
    "\n",
    "plt.rcParams.update({'font.size': 12})\n",
    "\n",
    "fig.savefig(\"Accuracy_Entropy.pdf\", bbox_inches='tight')\n",
    "\n",
    "plt.show()\n"
   ]
  },
  {
   "cell_type": "markdown",
   "id": "alone-allowance",
   "metadata": {},
   "source": [
    "#### Log loss"
   ]
  },
  {
   "cell_type": "code",
   "execution_count": 343,
   "id": "unusual-donor",
   "metadata": {},
   "outputs": [],
   "source": [
    "logloss_per_decile = {}\n",
    "number_bins = 10\n",
    "for data_key in selection:\n",
    "    data_raw = all_results[data_key]['raw']['raw']['adwin_uncertainty 0']\n",
    "\n",
    "    true_values = data_raw['tv']\n",
    "    y_pred_proba = data_raw['probs']\n",
    "    uncertainties = data_raw['uncertainties']\n",
    "    y_pred = data_raw['preds']\n",
    "\n",
    "    results = metric_per_entropy_bin(number_bins, uncertainties, true_values, y_pred, y_pred_proba, 'log_loss')\n",
    "    logloss_per_decile[data_key] = results"
   ]
  },
  {
   "cell_type": "markdown",
   "id": "flush-martin",
   "metadata": {},
   "source": [
    "logloss_per_decile.keys()\n",
    "selection = ['Electricity', 'Insects_Abrupt', 'Insects_Incremental', 'Insects_Inc_Abr', 'Insects_Inc_Reoc']"
   ]
  },
  {
   "cell_type": "code",
   "execution_count": 344,
   "id": "golden-chorus",
   "metadata": {},
   "outputs": [
    {
     "data": {
      "image/png": "[encoded data removed]",
      "text/plain": [
       "<Figure size 432x288 with 1 Axes>"
      ]
     },
     "metadata": {
      "needs_background": "light"
     },
     "output_type": "display_data"
    }
   ],
   "source": [
    "x = np.linspace(1,10,number_bins)\n",
    "plt.figure()\n",
    "for key in selection:\n",
    "    plt.plot(x, logloss_per_decile[key], marker='o', label = key)\n",
    "\n",
    "plt.ylabel('Log-loss')\n",
    "plt.xlabel('Entropy (Deciles)')\n",
    "#plt.ylim([0.1,1])\n",
    "plt.legend()\n",
    "plt.show()"
   ]
  },
  {
   "cell_type": "markdown",
   "id": "alert-commander",
   "metadata": {},
   "source": [
    "# Confidence"
   ]
  },
  {
   "cell_type": "code",
   "execution_count": 345,
   "id": "artificial-fleece",
   "metadata": {},
   "outputs": [],
   "source": [
    "data_raw = all_results['Electricity']['raw']['raw']['adwin_uncertainty 0']\n",
    "\n",
    "true_values = data_raw['tv']\n",
    "y_pred_proba = data_raw['probs']\n",
    "uncertainties = data_raw['uncertainties']\n",
    "y_pred = data_raw['preds']"
   ]
  },
  {
   "cell_type": "code",
   "execution_count": 346,
   "id": "divided-football",
   "metadata": {},
   "outputs": [
    {
     "data": {
      "text/plain": [
       "(array([ 1164.,  1228.,  1333.,  1457.,  1639.,  2055.,  2585.,  3312.,\n",
       "         4710., 19034.]),\n",
       " array([0.5000015 , 0.5500013 , 0.6000012 , 0.65000105, 0.7000009 ,\n",
       "        0.7500007 , 0.8000006 , 0.85000044, 0.9000003 , 0.95000017,\n",
       "        1.        ], dtype=float32),\n",
       " <BarContainer object of 10 artists>)"
      ]
     },
     "execution_count": 346,
     "metadata": {},
     "output_type": "execute_result"
    },
    {
     "data": {
      "image/png": "[encoded data removed]",
      "text/plain": [
       "<Figure size 432x288 with 1 Axes>"
      ]
     },
     "metadata": {
      "needs_background": "light"
     },
     "output_type": "display_data"
    }
   ],
   "source": [
    "confidence = y_pred_proba.max(axis = 1)\n",
    "plt.hist(confidence)"
   ]
  },
  {
   "cell_type": "code",
   "execution_count": 347,
   "id": "honey-brother",
   "metadata": {},
   "outputs": [],
   "source": [
    "def metric_per_confidence(true_values, pred, pred_proba, metric):\n",
    "    \n",
    "    confidence = pred_proba.max(axis = 1)\n",
    "    confidence = pd.Series(confidence)\n",
    "    metrics_bin = []\n",
    "    lb = LabelBinarizer()\n",
    "    true_values_cat = lb.fit_transform(true_values)\n",
    "    \n",
    "    for i in np.linspace(0,0.95,20):\n",
    "        sel_index = confidence[confidence > i].index\n",
    "        sel_true_values_cat = true_values_cat[sel_index, :]\n",
    "        sel_true_values = true_values[sel_index]\n",
    "        sel_predictions = pred[sel_index]\n",
    "        sel_probas = pred_proba[sel_index, :]\n",
    "        \n",
    "        if metric == 'accuracy':\n",
    "            metrics_bin.append(accuracy_score(sel_true_values, sel_predictions))\n",
    "            \n",
    "        if metric == 'log_loss':\n",
    "            metrics_bin.append(log_loss(sel_true_values_cat, sel_probas))\n",
    "            \n",
    "        if metric == 'auc':\n",
    "            metrics_bin.append(roc_auc_score(sel_true_values_cat, sel_probas, average='weighted', multi_class='ovo'))\n",
    "            \n",
    "        if metric == 'mcc':\n",
    "            metrics_bin.append(matthews_corrcoef(sel_true_values, sel_predictions))\n",
    "\n",
    "    return metrics_bin"
   ]
  },
  {
   "cell_type": "code",
   "execution_count": 348,
   "id": "choice-morgan",
   "metadata": {},
   "outputs": [],
   "source": [
    "_ = metric_per_confidence(true_values, y_pred, y_pred_proba, 'accuracy')"
   ]
  },
  {
   "cell_type": "code",
   "execution_count": 349,
   "id": "requested-invalid",
   "metadata": {},
   "outputs": [],
   "source": [
    "acc_per_confidence = {}\n",
    "for data_key in all_results.keys():\n",
    "    data_raw = all_results[data_key]['raw']['raw']['adwin_uncertainty 0']\n",
    "\n",
    "    true_values = data_raw['tv']\n",
    "    y_pred_proba = data_raw['probs']\n",
    "    uncertainties = data_raw['uncertainties']\n",
    "    y_pred = data_raw['preds']\n",
    "\n",
    "    results = metric_per_confidence(true_values, y_pred, y_pred_proba, 'accuracy')\n",
    "    acc_per_confidence[data_key] = results"
   ]
  },
  {
   "cell_type": "code",
   "execution_count": 350,
   "id": "funny-partnership",
   "metadata": {},
   "outputs": [
    {
     "data": {
      "image/png": "[encoded data removed]",
      "text/plain": [
       "<Figure size 432x288 with 1 Axes>"
      ]
     },
     "metadata": {
      "needs_background": "light"
     },
     "output_type": "display_data"
    }
   ],
   "source": [
    "x = np.linspace(0,0.95,20)\n",
    "plt.figure()\n",
    "for key in acc_per_confidence.keys():\n",
    "    plt.plot(x, acc_per_confidence[key], marker='o', label = key)\n",
    "\n",
    "plt.ylabel('Accuracy')\n",
    "plt.xlabel('Confidence')\n",
    "#plt.ylim([0.1,1])\n",
    "plt.legend()\n",
    "plt.show()\n"
   ]
  },
  {
   "cell_type": "code",
   "execution_count": 351,
   "id": "liberal-literacy",
   "metadata": {},
   "outputs": [],
   "source": [
    "def metric_per_confidence_bin(number_bins, true_values, pred, pred_proba, metric):    \n",
    "    \n",
    "    confidence = pred_proba.max(axis = 1)\n",
    "    confidence = pd.Series(confidence)\n",
    "    confidence_bins = pd.qcut(confidence, number_bins, labels=list(range(number_bins)))\n",
    "    metrics_bin = []\n",
    "    lb = LabelBinarizer()\n",
    "    true_values_cat = lb.fit_transform(true_values)\n",
    "    \n",
    "    for i in range(number_bins):\n",
    "        sel_index = confidence_bins[confidence_bins == i].index\n",
    "        sel_true_values_cat = true_values_cat[sel_index, :]\n",
    "        sel_true_values = true_values[sel_index]\n",
    "        sel_predictions = pred[sel_index]\n",
    "        sel_probas = pred_proba[sel_index, :]\n",
    "        \n",
    "        if metric == 'accuracy':\n",
    "            metrics_bin.append(accuracy_score(sel_true_values, sel_predictions))\n",
    "            \n",
    "        if metric == 'log_loss':\n",
    "            metrics_bin.append(log_loss(sel_true_values_cat, sel_probas))\n",
    "            \n",
    "        if metric == 'auc':\n",
    "            metrics_bin.append(roc_auc_score(sel_true_values_cat, sel_probas, average='weighted', multi_class='ovo'))\n",
    "            \n",
    "        if metric == 'mcc':\n",
    "            metrics_bin.append(matthews_corrcoef(sel_true_values, sel_predictions))\n",
    "\n",
    "    return metrics_bin"
   ]
  },
  {
   "cell_type": "code",
   "execution_count": 352,
   "id": "ethical-begin",
   "metadata": {},
   "outputs": [],
   "source": [
    "acc_per_confidence = {}\n",
    "for data_key in selection:\n",
    "    data_raw = all_results[data_key]['raw']['raw']['adwin_uncertainty 0']\n",
    "\n",
    "    true_values = data_raw['tv']\n",
    "    y_pred_proba = data_raw['probs']\n",
    "    uncertainties = data_raw['uncertainties']\n",
    "    y_pred = data_raw['preds']\n",
    "\n",
    "    results = metric_per_confidence_bin(10, true_values, y_pred, y_pred_proba, 'accuracy')\n",
    "    acc_per_confidence[data_key] = results"
   ]
  },
  {
   "cell_type": "code",
   "execution_count": 353,
   "id": "dense-gender",
   "metadata": {},
   "outputs": [
    {
     "data": {
      "image/png": "[encoded data removed]",
      "text/plain": [
       "<Figure size 576x360 with 1 Axes>"
      ]
     },
     "metadata": {
      "needs_background": "light"
     },
     "output_type": "display_data"
    }
   ],
   "source": [
    "x = np.linspace(1,10,number_bins)\n",
    "fig, ax1 = plt.subplots(figsize = (8,5))\n",
    "for key in selection:\n",
    "    ax1.plot(x, acc_per_confidence[key], marker='o', label = key)\n",
    "\n",
    "ax1.set_ylabel('Accuracy')\n",
    "ax1.set_xlabel('Confidence (Deciles)')\n",
    "ax1.set_ylim([0.1,1])\n",
    "ax1.grid(True, ls = '--')\n",
    "ax1.legend()\n",
    "ax1.set_xticks(x)\n",
    "\n",
    "plt.rcParams.update({'font.size': 12})\n",
    "\n",
    "fig.savefig(\"Accuracy_Confidence.pdf\", bbox_inches='tight')\n",
    "\n",
    "plt.show()"
   ]
  },
  {
   "cell_type": "markdown",
   "id": "promising-anthony",
   "metadata": {},
   "source": [
    "# Plots paper"
   ]
  },
  {
   "cell_type": "code",
   "execution_count": 354,
   "id": "developmental-preference",
   "metadata": {},
   "outputs": [],
   "source": [
    "all_results_reg = {}\n",
    "\n",
    "key = 'Air_Quality'\n",
    "local = {}\n",
    "filename = '../Experiment_AirQuality/results_MCDropout_air.pickle'\n",
    "local['raw'] = pickle.load(open(filename, 'rb'))\n",
    "all_results_reg[key] = local\n",
    "\n",
    "key = 'Bike_Sharing'\n",
    "local = {}\n",
    "filename = '../Experiment_BikeSharing/results_MCDropout_bike.pickle'\n",
    "local['raw'] = pickle.load(open(filename, 'rb'))\n",
    "all_results_reg[key] = local"
   ]
  },
  {
   "cell_type": "code",
   "execution_count": 355,
   "id": "rapid-steal",
   "metadata": {},
   "outputs": [],
   "source": [
    "for key in all_results_reg.keys():\n",
    "    all_results_reg[key]['summary'] = print_evaluation(all_results_reg[key]['raw'])"
   ]
  },
  {
   "cell_type": "code",
   "execution_count": 356,
   "id": "activated-convert",
   "metadata": {},
   "outputs": [],
   "source": [
    "for key in all_results_reg.keys():\n",
    "    table = all_results_reg[key]['summary']\n",
    "    table.insert(1, 'RMSE', np.sqrt(table['MSE']))\n",
    "    all_results_reg[key]['summary'] = table"
   ]
  },
  {
   "cell_type": "code",
   "execution_count": 357,
   "id": "amazing-oliver",
   "metadata": {},
   "outputs": [],
   "source": [
    "def metric_per_var_bin(number_bins, uncertainties, true_values, pred, metric):\n",
    "\n",
    "    uncertainties = pd.Series(np.hstack(uncertainties))\n",
    "    entropy_bins = pd.qcut(pd.Series(uncertainties), number_bins, labels=list(range(number_bins)))\n",
    "    \n",
    "    metrics_bin = []\n",
    "    \n",
    "    for i in range(number_bins):\n",
    "\n",
    "        sel_index = entropy_bins[entropy_bins == i].index\n",
    "        sel_true_values = true_values[sel_index]\n",
    "        sel_predictions = pred[sel_index]\n",
    "        \n",
    "        if metric == 'rmse':\n",
    "            metrics_bin.append(np.sqrt(mean_squared_error(sel_true_values, sel_predictions)))\n",
    "            \n",
    "        if metric == 'smape':\n",
    "            metrics_bin.append(smape(sel_true_values, sel_predictions))\n",
    "            \n",
    "        if metric == 'mae':\n",
    "            metrics_bin.append(mean_absolute_error(sel_true_values, sel_predictions))\n",
    "            \n",
    "    return metrics_bin"
   ]
  },
  {
   "cell_type": "code",
   "execution_count": 360,
   "id": "northern-intelligence",
   "metadata": {},
   "outputs": [],
   "source": [
    "mse_per_decile = {}\n",
    "number_bins = 10\n",
    "\n",
    "for data_key in all_results_reg.keys():\n",
    "    data_raw = all_results_reg[data_key]['raw']['raw']['adwin_uncertainty 0']\n",
    "\n",
    "    true_values = data_raw['tv']\n",
    "    y_pred_proba = data_raw['probs']\n",
    "    uncertainties = data_raw['uncertainties']\n",
    "    y_pred = data_raw['preds']\n",
    "\n",
    "    results = metric_per_var_bin(number_bins, uncertainties, true_values, y_pred, 'rmse')\n",
    "    #print('pred: ', data_key,true_values)\n",
    "    mse_per_decile[data_key] = results"
   ]
  },
  {
   "cell_type": "code",
   "execution_count": 362,
   "id": "theoretical-thread",
   "metadata": {},
   "outputs": [
    {
     "data": {
      "image/png": "[encoded data removed]",
      "text/plain": [
       "<Figure size 576x360 with 2 Axes>"
      ]
     },
     "metadata": {
      "needs_background": "light"
     },
     "output_type": "display_data"
    }
   ],
   "source": [
    "x = np.linspace(1,10,number_bins)\n",
    "\n",
    "#fig, (ax1, ax3) = plt.subplots(1, 2, figsize = (16,5))\n",
    "\n",
    "fig, ax1 = plt.subplots(figsize = (8,5))\n",
    "key = 'Bike_Sharing'\n",
    "ax1.set_ylabel('RMSE per decile (Bike Sharing)')\n",
    "lns1 = ax1.plot(x, mse_per_decile[key], marker='o', label = key, color = 'darkorange')\n",
    "\n",
    "ax2 = ax1.twinx()\n",
    "\n",
    "key = 'Air_Quality'\n",
    "ax2.set_ylabel('RMSE per decile (Air Quality)')\n",
    "lns2 = ax2.plot(x, mse_per_decile[key], marker='o', label = key)\n",
    "\n",
    "lns = lns1 + lns2\n",
    "labs = [l.get_label() for l in lns]\n",
    "ax1.legend(lns, labs, loc=0)\n",
    "\n",
    "ax1.set_xlabel('Variance (Deciles)')\n",
    "ax1.set_xticks(x)\n",
    "ax1.grid(True, ls = '--')\n",
    "#plt.ylim([0.1,1])\n",
    "\n",
    "plt.rcParams.update({'font.size': 12})\n",
    "\n",
    "fig.savefig(\"RMSE_Variance.pdf\", bbox_inches='tight')\n",
    "\n",
    "plt.show()"
   ]
  },
  {
   "cell_type": "code",
   "execution_count": 380,
   "id": "furnished-rental",
   "metadata": {},
   "outputs": [
    {
     "data": {
      "text/plain": [
       "dict_keys(['metrics', 'errors', 'drifts', 'raw'])"
      ]
     },
     "execution_count": 380,
     "metadata": {},
     "output_type": "execute_result"
    }
   ],
   "source": [
    "all_results['KDDCUP99']['raw'].keys()"
   ]
  },
  {
   "cell_type": "code",
   "execution_count": 384,
   "id": "desirable-lodge",
   "metadata": {},
   "outputs": [
    {
     "data": {
      "text/plain": [
       "dict_keys(['uncertainties', 'tv', 'tv_cat', 'preds', 'probs', 'errors'])"
      ]
     },
     "execution_count": 384,
     "metadata": {},
     "output_type": "execute_result"
    }
   ],
   "source": [
    "all_results['KDDCUP99']['raw']['raw']['adwin_uncertainty 0'].keys()"
   ]
  },
  {
   "cell_type": "code",
   "execution_count": null,
   "id": "handmade-photograph",
   "metadata": {},
   "outputs": [],
   "source": []
  },
  {
   "cell_type": "code",
   "execution_count": null,
   "id": "objective-march",
   "metadata": {},
   "outputs": [],
   "source": []
  },
  {
   "cell_type": "code",
   "execution_count": null,
   "id": "pointed-shannon",
   "metadata": {},
   "outputs": [],
   "source": []
  },
  {
   "cell_type": "code",
   "execution_count": null,
   "id": "tracked-literature",
   "metadata": {},
   "outputs": [],
   "source": []
  }
 ],
 "metadata": {
  "kernelspec": {
   "display_name": "adwin_uncertainty",
   "language": "python",
   "name": "adwin_uncertainty"
  },
  "language_info": {
   "codemirror_mode": {
    "name": "ipython",
    "version": 3
   },
   "file_extension": ".py",
   "mimetype": "text/x-python",
   "name": "python",
   "nbconvert_exporter": "python",
   "pygments_lexer": "ipython3",
   "version": "3.7.10"
  }
 },
 "nbformat": 4,
 "nbformat_minor": 5
}
