{
 "cells": [
  {
   "cell_type": "code",
   "execution_count": 127,
   "id": "otherwise-merchandise",
   "metadata": {},
   "outputs": [
    {
     "name": "stdout",
     "output_type": "stream",
     "text": [
      "The autoreload extension is already loaded. To reload it, use:\n",
      "  %reload_ext autoreload\n"
     ]
    }
   ],
   "source": [
    "from warnings import simplefilter\n",
    "# ignore all future warnings\n",
    "simplefilter(action='ignore', category=FutureWarning)\n",
    "simplefilter(action='ignore', category=RuntimeWarning)\n",
    "\n",
    "import sys\n",
    "import logging\n",
    "\n",
    "from scipy.io import arff\n",
    "\n",
    "import numpy as np\n",
    "import pandas as pd\n",
    "import matplotlib.pyplot as plt\n",
    "from skmultiflow.data import DataStream\n",
    "from scipy import stats\n",
    "from sklearn.metrics import mean_squared_error, mean_absolute_error\n",
    "from scipy.stats import spearmanr\n",
    "from util import plot_performance_comparison, print_evaluation, plot_drift_detection_summary\n",
    "import pickle\n",
    "\n",
    "%load_ext autoreload\n",
    "%autoreload 2\n",
    "\n",
    "pd.set_option(\"display.max_rows\", 120)\n",
    "pd.set_option(\"display.max_columns\", 120)\n",
    "\n",
    "logging.basicConfig(level=logging.INFO, stream=sys.stdout)"
   ]
  },
  {
   "cell_type": "code",
   "execution_count": 134,
   "id": "featured-internship",
   "metadata": {},
   "outputs": [],
   "source": [
    "all_results = {}\n",
    "\n",
    "key = 'Air_Quality'\n",
    "local = {}\n",
    "filename = '../Experiment_AirQuality/results_MCDropout_air.pickle'\n",
    "local['raw'] = pickle.load(open(filename, 'rb'))\n",
    "all_results[key] = local\n",
    "\n",
    "key = 'Bike_Sharing'\n",
    "local = {}\n",
    "filename = '../Experiment_BikeSharing/results_MCDropout_bike.pickle'\n",
    "local['raw'] = pickle.load(open(filename, 'rb'))\n",
    "all_results[key] = local\n",
    "\n",
    "# Synthetic\n",
    "\n",
    "key = 'Syn_Friedman'\n",
    "local = {}\n",
    "filename = '../Syn_Experiment_Friedman_Abrupt/results_MCDropout_friedman.pickle'\n",
    "local['raw'] = pickle.load(open(filename, 'rb'))\n",
    "all_results[key] = local"
   ]
  },
  {
   "cell_type": "code",
   "execution_count": 135,
   "id": "equivalent-extent",
   "metadata": {},
   "outputs": [],
   "source": [
    "for key in all_results.keys():\n",
    "    all_results[key]['summary'] = print_evaluation(all_results[key]['raw'])"
   ]
  },
  {
   "cell_type": "code",
   "execution_count": 136,
   "id": "answering-vermont",
   "metadata": {},
   "outputs": [],
   "source": [
    "for key in all_results.keys():\n",
    "    table = all_results[key]['summary']\n",
    "    table.insert(1, 'RMSE', np.sqrt(table['MSE']))\n",
    "    all_results[key]['summary'] = table"
   ]
  },
  {
   "cell_type": "markdown",
   "id": "heated-tennis",
   "metadata": {},
   "source": [
    "#### Metric"
   ]
  },
  {
   "cell_type": "code",
   "execution_count": 137,
   "id": "amber-demand",
   "metadata": {},
   "outputs": [
    {
     "data": {
      "text/plain": [
       "Index(['MAE', 'RMSE', 'MSE', 'SMAPE', 'r_spear', 'r_pears',\n",
       "       'detected_drift_numbers', 'retraining_counter', 'Computation_Time'],\n",
       "      dtype='object')"
      ]
     },
     "execution_count": 137,
     "metadata": {},
     "output_type": "execute_result"
    }
   ],
   "source": [
    "all_results[key]['summary'].keys()"
   ]
  },
  {
   "cell_type": "code",
   "execution_count": 140,
   "id": "mounted-winner",
   "metadata": {},
   "outputs": [],
   "source": [
    "metric = 'SMAPE'\n",
    "overview = {}\n",
    "\n",
    "for key in all_results.keys():\n",
    "    overview[key] = all_results[key]['summary'][metric]"
   ]
  },
  {
   "cell_type": "code",
   "execution_count": 141,
   "id": "alone-press",
   "metadata": {},
   "outputs": [
    {
     "name": "stdout",
     "output_type": "stream",
     "text": [
      "SMAPE\n"
     ]
    },
    {
     "data": {
      "text/html": [
       "<div>\n",
       "<style scoped>\n",
       "    .dataframe tbody tr th:only-of-type {\n",
       "        vertical-align: middle;\n",
       "    }\n",
       "\n",
       "    .dataframe tbody tr th {\n",
       "        vertical-align: top;\n",
       "    }\n",
       "\n",
       "    .dataframe thead th {\n",
       "        text-align: right;\n",
       "    }\n",
       "</style>\n",
       "<table border=\"1\" class=\"dataframe\">\n",
       "  <thead>\n",
       "    <tr style=\"text-align: right;\">\n",
       "      <th>Detection</th>\n",
       "      <th>no_retraining</th>\n",
       "      <th>uninformed</th>\n",
       "      <th>equal_distribution</th>\n",
       "      <th>kswin</th>\n",
       "      <th>adwin_uncertainty</th>\n",
       "      <th>kswin_unlimited</th>\n",
       "      <th>adwin_error</th>\n",
       "    </tr>\n",
       "  </thead>\n",
       "  <tbody>\n",
       "    <tr>\n",
       "      <th>Air_Quality</th>\n",
       "      <td>12.464060</td>\n",
       "      <td>10.136977</td>\n",
       "      <td>8.843035</td>\n",
       "      <td>10.556120</td>\n",
       "      <td>8.963886</td>\n",
       "      <td>10.332211</td>\n",
       "      <td>10.678390</td>\n",
       "    </tr>\n",
       "    <tr>\n",
       "      <th>Bike_Sharing</th>\n",
       "      <td>71.882171</td>\n",
       "      <td>62.756937</td>\n",
       "      <td>56.938133</td>\n",
       "      <td>61.037776</td>\n",
       "      <td>55.487333</td>\n",
       "      <td>46.666323</td>\n",
       "      <td>54.741980</td>\n",
       "    </tr>\n",
       "    <tr>\n",
       "      <th>Syn_Friedman</th>\n",
       "      <td>25.647768</td>\n",
       "      <td>21.263897</td>\n",
       "      <td>22.821049</td>\n",
       "      <td>23.083311</td>\n",
       "      <td>17.227913</td>\n",
       "      <td>15.099723</td>\n",
       "      <td>16.664773</td>\n",
       "    </tr>\n",
       "  </tbody>\n",
       "</table>\n",
       "</div>"
      ],
      "text/plain": [
       "Detection     no_retraining  uninformed  equal_distribution      kswin  \\\n",
       "Air_Quality       12.464060   10.136977            8.843035  10.556120   \n",
       "Bike_Sharing      71.882171   62.756937           56.938133  61.037776   \n",
       "Syn_Friedman      25.647768   21.263897           22.821049  23.083311   \n",
       "\n",
       "Detection     adwin_uncertainty  kswin_unlimited  adwin_error  \n",
       "Air_Quality            8.963886        10.332211    10.678390  \n",
       "Bike_Sharing          55.487333        46.666323    54.741980  \n",
       "Syn_Friedman          17.227913        15.099723    16.664773  "
      ]
     },
     "execution_count": 141,
     "metadata": {},
     "output_type": "execute_result"
    }
   ],
   "source": [
    "print(metric)\n",
    "results = pd.DataFrame(overview).T\n",
    "ordered_columnns = ['no_retraining', 'uninformed', 'equal_distribution', 'kswin', 'adwin_uncertainty','kswin_unlimited',  'adwin_error']\n",
    "results[ordered_columnns]"
   ]
  },
  {
   "cell_type": "markdown",
   "id": "distant-influence",
   "metadata": {},
   "source": [
    "#### Number retraining"
   ]
  },
  {
   "cell_type": "code",
   "execution_count": 142,
   "id": "strange-thunder",
   "metadata": {},
   "outputs": [],
   "source": [
    "metric = 'retraining_counter'\n",
    "overview = {}\n",
    "\n",
    "for key in all_results.keys():\n",
    "    overview[key] = all_results[key]['summary'][metric]"
   ]
  },
  {
   "cell_type": "code",
   "execution_count": 143,
   "id": "lined-directory",
   "metadata": {},
   "outputs": [
    {
     "name": "stdout",
     "output_type": "stream",
     "text": [
      "retraining_counter\n"
     ]
    },
    {
     "data": {
      "text/html": [
       "<div>\n",
       "<style scoped>\n",
       "    .dataframe tbody tr th:only-of-type {\n",
       "        vertical-align: middle;\n",
       "    }\n",
       "\n",
       "    .dataframe tbody tr th {\n",
       "        vertical-align: top;\n",
       "    }\n",
       "\n",
       "    .dataframe thead th {\n",
       "        text-align: right;\n",
       "    }\n",
       "</style>\n",
       "<table border=\"1\" class=\"dataframe\">\n",
       "  <thead>\n",
       "    <tr style=\"text-align: right;\">\n",
       "      <th>Detection</th>\n",
       "      <th>no_retraining</th>\n",
       "      <th>uninformed</th>\n",
       "      <th>equal_distribution</th>\n",
       "      <th>kswin</th>\n",
       "      <th>adwin_uncertainty</th>\n",
       "      <th>kswin_unlimited</th>\n",
       "      <th>adwin_error</th>\n",
       "    </tr>\n",
       "  </thead>\n",
       "  <tbody>\n",
       "    <tr>\n",
       "      <th>Air_Quality</th>\n",
       "      <td>0</td>\n",
       "      <td>14</td>\n",
       "      <td>14</td>\n",
       "      <td>14</td>\n",
       "      <td>14</td>\n",
       "      <td>19</td>\n",
       "      <td>12</td>\n",
       "    </tr>\n",
       "    <tr>\n",
       "      <th>Bike_Sharing</th>\n",
       "      <td>0</td>\n",
       "      <td>5</td>\n",
       "      <td>5</td>\n",
       "      <td>5</td>\n",
       "      <td>5</td>\n",
       "      <td>27</td>\n",
       "      <td>8</td>\n",
       "    </tr>\n",
       "    <tr>\n",
       "      <th>Syn_Friedman</th>\n",
       "      <td>0</td>\n",
       "      <td>3</td>\n",
       "      <td>3</td>\n",
       "      <td>3</td>\n",
       "      <td>3</td>\n",
       "      <td>20</td>\n",
       "      <td>5</td>\n",
       "    </tr>\n",
       "  </tbody>\n",
       "</table>\n",
       "</div>"
      ],
      "text/plain": [
       "Detection     no_retraining  uninformed  equal_distribution  kswin  \\\n",
       "Air_Quality               0          14                  14     14   \n",
       "Bike_Sharing              0           5                   5      5   \n",
       "Syn_Friedman              0           3                   3      3   \n",
       "\n",
       "Detection     adwin_uncertainty  kswin_unlimited  adwin_error  \n",
       "Air_Quality                  14               19           12  \n",
       "Bike_Sharing                  5               27            8  \n",
       "Syn_Friedman                  3               20            5  "
      ]
     },
     "execution_count": 143,
     "metadata": {},
     "output_type": "execute_result"
    }
   ],
   "source": [
    "print(metric)\n",
    "results = pd.DataFrame(overview).T\n",
    "ordered_columnns = ['no_retraining', 'uninformed', 'equal_distribution', 'kswin', 'adwin_uncertainty','kswin_unlimited',  'adwin_error']\n",
    "results[ordered_columnns]"
   ]
  },
  {
   "cell_type": "markdown",
   "id": "center-village",
   "metadata": {},
   "source": [
    "#### Details"
   ]
  },
  {
   "cell_type": "code",
   "execution_count": 32,
   "id": "abstract-graham",
   "metadata": {},
   "outputs": [
    {
     "data": {
      "text/html": [
       "<div>\n",
       "<style scoped>\n",
       "    .dataframe tbody tr th:only-of-type {\n",
       "        vertical-align: middle;\n",
       "    }\n",
       "\n",
       "    .dataframe tbody tr th {\n",
       "        vertical-align: top;\n",
       "    }\n",
       "\n",
       "    .dataframe thead th {\n",
       "        text-align: right;\n",
       "    }\n",
       "</style>\n",
       "<table border=\"1\" class=\"dataframe\">\n",
       "  <thead>\n",
       "    <tr style=\"text-align: right;\">\n",
       "      <th></th>\n",
       "      <th>MAE</th>\n",
       "      <th>RMSE</th>\n",
       "      <th>MSE</th>\n",
       "      <th>SMAPE</th>\n",
       "      <th>r_spear</th>\n",
       "      <th>r_pears</th>\n",
       "      <th>detected_drift_numbers</th>\n",
       "      <th>retraining_counter</th>\n",
       "      <th>Computation_Time</th>\n",
       "    </tr>\n",
       "    <tr>\n",
       "      <th>Detection</th>\n",
       "      <th></th>\n",
       "      <th></th>\n",
       "      <th></th>\n",
       "      <th></th>\n",
       "      <th></th>\n",
       "      <th></th>\n",
       "      <th></th>\n",
       "      <th></th>\n",
       "      <th></th>\n",
       "    </tr>\n",
       "  </thead>\n",
       "  <tbody>\n",
       "    <tr>\n",
       "      <th>adwin_error</th>\n",
       "      <td>0.847367</td>\n",
       "      <td>1.386682</td>\n",
       "      <td>1.922888</td>\n",
       "      <td>10.678390</td>\n",
       "      <td>0.445291</td>\n",
       "      <td>0.618342</td>\n",
       "      <td>12</td>\n",
       "      <td>12</td>\n",
       "      <td>93.672636</td>\n",
       "    </tr>\n",
       "    <tr>\n",
       "      <th>adwin_uncertainty</th>\n",
       "      <td>0.687711</td>\n",
       "      <td>1.151485</td>\n",
       "      <td>1.325917</td>\n",
       "      <td>8.963886</td>\n",
       "      <td>0.424870</td>\n",
       "      <td>0.411051</td>\n",
       "      <td>14</td>\n",
       "      <td>14</td>\n",
       "      <td>109.424100</td>\n",
       "    </tr>\n",
       "    <tr>\n",
       "      <th>equal_distribution</th>\n",
       "      <td>0.744370</td>\n",
       "      <td>1.230825</td>\n",
       "      <td>1.514930</td>\n",
       "      <td>8.843035</td>\n",
       "      <td>0.568438</td>\n",
       "      <td>0.495504</td>\n",
       "      <td>0</td>\n",
       "      <td>14</td>\n",
       "      <td>101.274468</td>\n",
       "    </tr>\n",
       "    <tr>\n",
       "      <th>kswin</th>\n",
       "      <td>0.821992</td>\n",
       "      <td>1.307496</td>\n",
       "      <td>1.709546</td>\n",
       "      <td>10.936935</td>\n",
       "      <td>0.372710</td>\n",
       "      <td>0.631231</td>\n",
       "      <td>12</td>\n",
       "      <td>12</td>\n",
       "      <td>116.628383</td>\n",
       "    </tr>\n",
       "    <tr>\n",
       "      <th>kswin_unlimited</th>\n",
       "      <td>0.801440</td>\n",
       "      <td>1.266734</td>\n",
       "      <td>1.604614</td>\n",
       "      <td>10.824041</td>\n",
       "      <td>0.373594</td>\n",
       "      <td>0.626503</td>\n",
       "      <td>14</td>\n",
       "      <td>14</td>\n",
       "      <td>130.606989</td>\n",
       "    </tr>\n",
       "    <tr>\n",
       "      <th>no_retraining</th>\n",
       "      <td>0.766381</td>\n",
       "      <td>1.169737</td>\n",
       "      <td>1.368285</td>\n",
       "      <td>12.464060</td>\n",
       "      <td>0.015409</td>\n",
       "      <td>0.516991</td>\n",
       "      <td>0</td>\n",
       "      <td>0</td>\n",
       "      <td>11.691438</td>\n",
       "    </tr>\n",
       "    <tr>\n",
       "      <th>uninformed</th>\n",
       "      <td>0.880579</td>\n",
       "      <td>1.439194</td>\n",
       "      <td>2.071278</td>\n",
       "      <td>10.087713</td>\n",
       "      <td>0.597060</td>\n",
       "      <td>0.629400</td>\n",
       "      <td>0</td>\n",
       "      <td>14</td>\n",
       "      <td>105.213869</td>\n",
       "    </tr>\n",
       "  </tbody>\n",
       "</table>\n",
       "</div>"
      ],
      "text/plain": [
       "                         MAE      RMSE       MSE      SMAPE   r_spear  \\\n",
       "Detection                                                               \n",
       "adwin_error         0.847367  1.386682  1.922888  10.678390  0.445291   \n",
       "adwin_uncertainty   0.687711  1.151485  1.325917   8.963886  0.424870   \n",
       "equal_distribution  0.744370  1.230825  1.514930   8.843035  0.568438   \n",
       "kswin               0.821992  1.307496  1.709546  10.936935  0.372710   \n",
       "kswin_unlimited     0.801440  1.266734  1.604614  10.824041  0.373594   \n",
       "no_retraining       0.766381  1.169737  1.368285  12.464060  0.015409   \n",
       "uninformed          0.880579  1.439194  2.071278  10.087713  0.597060   \n",
       "\n",
       "                     r_pears  detected_drift_numbers  retraining_counter  \\\n",
       "Detection                                                                  \n",
       "adwin_error         0.618342                      12                  12   \n",
       "adwin_uncertainty   0.411051                      14                  14   \n",
       "equal_distribution  0.495504                       0                  14   \n",
       "kswin               0.631231                      12                  12   \n",
       "kswin_unlimited     0.626503                      14                  14   \n",
       "no_retraining       0.516991                       0                   0   \n",
       "uninformed          0.629400                       0                  14   \n",
       "\n",
       "                    Computation_Time  \n",
       "Detection                             \n",
       "adwin_error                93.672636  \n",
       "adwin_uncertainty         109.424100  \n",
       "equal_distribution        101.274468  \n",
       "kswin                     116.628383  \n",
       "kswin_unlimited           130.606989  \n",
       "no_retraining              11.691438  \n",
       "uninformed                105.213869  "
      ]
     },
     "execution_count": 32,
     "metadata": {},
     "output_type": "execute_result"
    }
   ],
   "source": [
    "all_results['Air_Quality']['summary']"
   ]
  },
  {
   "cell_type": "code",
   "execution_count": 8,
   "id": "floppy-payroll",
   "metadata": {},
   "outputs": [
    {
     "data": {
      "text/html": [
       "<div>\n",
       "<style scoped>\n",
       "    .dataframe tbody tr th:only-of-type {\n",
       "        vertical-align: middle;\n",
       "    }\n",
       "\n",
       "    .dataframe tbody tr th {\n",
       "        vertical-align: top;\n",
       "    }\n",
       "\n",
       "    .dataframe thead th {\n",
       "        text-align: right;\n",
       "    }\n",
       "</style>\n",
       "<table border=\"1\" class=\"dataframe\">\n",
       "  <thead>\n",
       "    <tr style=\"text-align: right;\">\n",
       "      <th></th>\n",
       "      <th>MAE</th>\n",
       "      <th>RMSE</th>\n",
       "      <th>MSE</th>\n",
       "      <th>SMAPE</th>\n",
       "      <th>r_spear</th>\n",
       "      <th>r_pears</th>\n",
       "      <th>detected_drift_numbers</th>\n",
       "      <th>retraining_counter</th>\n",
       "      <th>Computation_Time</th>\n",
       "    </tr>\n",
       "    <tr>\n",
       "      <th>Detection</th>\n",
       "      <th></th>\n",
       "      <th></th>\n",
       "      <th></th>\n",
       "      <th></th>\n",
       "      <th></th>\n",
       "      <th></th>\n",
       "      <th></th>\n",
       "      <th></th>\n",
       "      <th></th>\n",
       "    </tr>\n",
       "  </thead>\n",
       "  <tbody>\n",
       "    <tr>\n",
       "      <th>adwin_error</th>\n",
       "      <td>108.322724</td>\n",
       "      <td>160.733777</td>\n",
       "      <td>25835.347153</td>\n",
       "      <td>67.211094</td>\n",
       "      <td>0.279784</td>\n",
       "      <td>0.030117</td>\n",
       "      <td>6</td>\n",
       "      <td>6</td>\n",
       "      <td>54.846816</td>\n",
       "    </tr>\n",
       "    <tr>\n",
       "      <th>adwin_uncertainty</th>\n",
       "      <td>100.053476</td>\n",
       "      <td>148.359027</td>\n",
       "      <td>22010.401004</td>\n",
       "      <td>63.216678</td>\n",
       "      <td>0.366978</td>\n",
       "      <td>0.161331</td>\n",
       "      <td>7</td>\n",
       "      <td>7</td>\n",
       "      <td>49.729426</td>\n",
       "    </tr>\n",
       "    <tr>\n",
       "      <th>equal_distribution</th>\n",
       "      <td>106.990447</td>\n",
       "      <td>153.537804</td>\n",
       "      <td>23573.857177</td>\n",
       "      <td>67.286410</td>\n",
       "      <td>0.374176</td>\n",
       "      <td>0.137045</td>\n",
       "      <td>0</td>\n",
       "      <td>7</td>\n",
       "      <td>50.453768</td>\n",
       "    </tr>\n",
       "    <tr>\n",
       "      <th>kswin</th>\n",
       "      <td>106.542359</td>\n",
       "      <td>156.858752</td>\n",
       "      <td>24604.668083</td>\n",
       "      <td>65.906629</td>\n",
       "      <td>0.309038</td>\n",
       "      <td>0.024824</td>\n",
       "      <td>7</td>\n",
       "      <td>7</td>\n",
       "      <td>105.342770</td>\n",
       "    </tr>\n",
       "    <tr>\n",
       "      <th>kswin_unlimited</th>\n",
       "      <td>98.438282</td>\n",
       "      <td>149.007880</td>\n",
       "      <td>22203.348224</td>\n",
       "      <td>61.696364</td>\n",
       "      <td>0.408112</td>\n",
       "      <td>0.131316</td>\n",
       "      <td>28</td>\n",
       "      <td>27</td>\n",
       "      <td>168.490429</td>\n",
       "    </tr>\n",
       "    <tr>\n",
       "      <th>no_retraining</th>\n",
       "      <td>170.958287</td>\n",
       "      <td>210.939111</td>\n",
       "      <td>44495.308578</td>\n",
       "      <td>82.682654</td>\n",
       "      <td>0.451827</td>\n",
       "      <td>0.305720</td>\n",
       "      <td>0</td>\n",
       "      <td>0</td>\n",
       "      <td>11.289326</td>\n",
       "    </tr>\n",
       "    <tr>\n",
       "      <th>uninformed</th>\n",
       "      <td>116.668695</td>\n",
       "      <td>165.015595</td>\n",
       "      <td>27230.146699</td>\n",
       "      <td>69.638265</td>\n",
       "      <td>0.373971</td>\n",
       "      <td>0.142420</td>\n",
       "      <td>0</td>\n",
       "      <td>7</td>\n",
       "      <td>52.442428</td>\n",
       "    </tr>\n",
       "  </tbody>\n",
       "</table>\n",
       "</div>"
      ],
      "text/plain": [
       "                           MAE        RMSE           MSE      SMAPE   r_spear  \\\n",
       "Detection                                                                       \n",
       "adwin_error         108.322724  160.733777  25835.347153  67.211094  0.279784   \n",
       "adwin_uncertainty   100.053476  148.359027  22010.401004  63.216678  0.366978   \n",
       "equal_distribution  106.990447  153.537804  23573.857177  67.286410  0.374176   \n",
       "kswin               106.542359  156.858752  24604.668083  65.906629  0.309038   \n",
       "kswin_unlimited      98.438282  149.007880  22203.348224  61.696364  0.408112   \n",
       "no_retraining       170.958287  210.939111  44495.308578  82.682654  0.451827   \n",
       "uninformed          116.668695  165.015595  27230.146699  69.638265  0.373971   \n",
       "\n",
       "                     r_pears  detected_drift_numbers  retraining_counter  \\\n",
       "Detection                                                                  \n",
       "adwin_error         0.030117                       6                   6   \n",
       "adwin_uncertainty   0.161331                       7                   7   \n",
       "equal_distribution  0.137045                       0                   7   \n",
       "kswin               0.024824                       7                   7   \n",
       "kswin_unlimited     0.131316                      28                  27   \n",
       "no_retraining       0.305720                       0                   0   \n",
       "uninformed          0.142420                       0                   7   \n",
       "\n",
       "                    Computation_Time  \n",
       "Detection                             \n",
       "adwin_error                54.846816  \n",
       "adwin_uncertainty          49.729426  \n",
       "equal_distribution         50.453768  \n",
       "kswin                     105.342770  \n",
       "kswin_unlimited           168.490429  \n",
       "no_retraining              11.289326  \n",
       "uninformed                 52.442428  "
      ]
     },
     "execution_count": 8,
     "metadata": {},
     "output_type": "execute_result"
    }
   ],
   "source": [
    "all_results['Bike_Sharing']['summary']"
   ]
  },
  {
   "cell_type": "code",
   "execution_count": 18,
   "id": "exceptional-budget",
   "metadata": {},
   "outputs": [],
   "source": [
    "bike = all_results['Bike_Sharing']['raw']"
   ]
  },
  {
   "cell_type": "code",
   "execution_count": 19,
   "id": "adult-geography",
   "metadata": {},
   "outputs": [
    {
     "data": {
      "text/plain": [
       "dict_keys(['adwin_uncertainty 0', 'uninformed_1', 'uninformed_2', 'uninformed_3', 'uninformed_4', 'uninformed_5', 'no_retraining', 'equal_distribution', 'adwin_error', 'kswin', 'kswin_unlimited'])"
      ]
     },
     "execution_count": 19,
     "metadata": {},
     "output_type": "execute_result"
    }
   ],
   "source": [
    "bike['raw'].keys()"
   ]
  },
  {
   "cell_type": "code",
   "execution_count": 20,
   "id": "packed-association",
   "metadata": {},
   "outputs": [
    {
     "data": {
      "text/plain": [
       "dict_keys(['uncertainties', 'tv', 'tv_cat', 'preds', 'probs', 'errors'])"
      ]
     },
     "execution_count": 20,
     "metadata": {},
     "output_type": "execute_result"
    }
   ],
   "source": [
    "bike['raw']['adwin_uncertainty 0'].keys()"
   ]
  },
  {
   "cell_type": "code",
   "execution_count": 21,
   "id": "chronic-yeast",
   "metadata": {},
   "outputs": [],
   "source": [
    "predictions = bike['raw']['adwin_uncertainty 0']['preds']\n",
    "true_values = bike['raw']['adwin_uncertainty 0']['tv']"
   ]
  },
  {
   "cell_type": "code",
   "execution_count": 22,
   "id": "clinical-vietnam",
   "metadata": {},
   "outputs": [
    {
     "data": {
      "text/plain": [
       "148.35902737586878"
      ]
     },
     "execution_count": 22,
     "metadata": {},
     "output_type": "execute_result"
    }
   ],
   "source": [
    "np.sqrt(mean_squared_error(true_values, predictions))"
   ]
  },
  {
   "cell_type": "code",
   "execution_count": 23,
   "id": "oriented-clearance",
   "metadata": {},
   "outputs": [],
   "source": [
    "uncertainties = bike['raw']['adwin_uncertainty 0']['uncertainties']\n",
    "errors = bike['raw']['adwin_uncertainty 0']['errors']"
   ]
  },
  {
   "cell_type": "code",
   "execution_count": 24,
   "id": "subject-philadelphia",
   "metadata": {},
   "outputs": [
    {
     "data": {
      "text/plain": [
       "0.36697834919551975"
      ]
     },
     "execution_count": 24,
     "metadata": {},
     "output_type": "execute_result"
    }
   ],
   "source": [
    "spearmanr(errors, uncertainties)[0]"
   ]
  },
  {
   "cell_type": "code",
   "execution_count": 25,
   "id": "floating-evaluation",
   "metadata": {},
   "outputs": [
    {
     "data": {
      "text/plain": [
       "0.16133101904315064"
      ]
     },
     "execution_count": 25,
     "metadata": {},
     "output_type": "execute_result"
    }
   ],
   "source": [
    "np.corrcoef(errors, uncertainties)[0, 1]"
   ]
  },
  {
   "cell_type": "code",
   "execution_count": 101,
   "id": "personalized-gibson",
   "metadata": {},
   "outputs": [
    {
     "name": "stdout",
     "output_type": "stream",
     "text": [
      "Air_Quality :  0.42487026152727925\n",
      "Bike_Sharing :  0.36697834919551975\n",
      "Syn_Friedman :  0.473779234047615\n"
     ]
    }
   ],
   "source": [
    "for data_set in all_results.keys():\n",
    "    df_prel = all_results[data_set]['raw']['metrics']\n",
    "    print(data_set,': ', df_prel[df_prel.Detection == 'adwin_uncertainty']['r_spear'][0])"
   ]
  },
  {
   "cell_type": "code",
   "execution_count": null,
   "id": "bound-ticket",
   "metadata": {},
   "outputs": [],
   "source": []
  }
 ],
 "metadata": {
  "kernelspec": {
   "display_name": "adwin_uncertainty",
   "language": "python",
   "name": "adwin_uncertainty"
  },
  "language_info": {
   "codemirror_mode": {
    "name": "ipython",
    "version": 3
   },
   "file_extension": ".py",
   "mimetype": "text/x-python",
   "name": "python",
   "nbconvert_exporter": "python",
   "pygments_lexer": "ipython3",
   "version": "3.7.10"
  }
 },
 "nbformat": 4,
 "nbformat_minor": 5
}
